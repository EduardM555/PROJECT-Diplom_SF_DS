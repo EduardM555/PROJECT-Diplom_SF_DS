{
 "cells": [
  {
   "attachments": {},
   "cell_type": "markdown",
   "metadata": {},
   "source": [
    "## Дипломный проект на тему   \n",
    "## \"Модель прогнозирования стоимости жилья для агентства недвижимости\""
   ]
  },
  {
   "cell_type": "code",
   "execution_count": 1085,
   "metadata": {},
   "outputs": [],
   "source": [
    "import numpy as np\n",
    "import pandas as pd\n",
    "import matplotlib.pyplot as plt\n",
    "import seaborn as sns\n",
    "import plotly.express as px\n",
    "\n",
    "from scipy import stats\n",
    "from sklearn import linear_model\n",
    "from sklearn import preprocessing\n",
    "from sklearn import model_selection\n",
    "from sklearn import tree\n",
    "from sklearn import ensemble\n",
    "from sklearn import metrics\n",
    "from sklearn import cluster\n",
    "from sklearn import feature_selection\n",
    "from category_encoders.cat_boost import CatBoostEncoder\n",
    "from sklearn.pipeline import Pipeline\n",
    "import category_encoders as ce\n",
    "import pickle"
   ]
  },
  {
   "attachments": {},
   "cell_type": "markdown",
   "metadata": {},
   "source": [
    "Описание данных:  \n",
    "\n",
    "➔ 'status' — статус продажи;  \n",
    "➔ 'private pool' и 'PrivatePool' — наличие собственного бассейна;  \n",
    "➔ 'propertyType' — тип объекта недвижимости;  \n",
    "➔ 'street' — адрес объекта;  \n",
    "➔ 'baths' — количество ванных комнат;  \n",
    "➔ 'homeFacts' — сведения о строительстве объекта (содержит несколько типов сведений, влияющих на оценку объекта);  \n",
    "➔ 'fireplace' — наличие камина;  \n",
    "➔ 'city' — город;  \n",
    "➔ 'schools' — сведения о школах в районе;  \n",
    "➔ 'sqft' — площадь в футах;  \n",
    "➔ 'zipcode' — почтовый индекс;  \n",
    "➔ 'beds' — количество спален;  \n",
    "➔ 'state' — штат;  \n",
    "➔ 'stories' — количество этажей;  \n",
    "➔ 'mls-id' и 'MlsId' — идентификатор MLS (Multiple Listing Service, система мультилистинга);  \n",
    "➔ 'target' — цена объекта недвижимости (целевой признак, который необходимо спрогнозировать)."
   ]
  },
  {
   "attachments": {},
   "cell_type": "markdown",
   "metadata": {},
   "source": [
    "## Знакомство с данными, базовый анализ, EDA, Очистка данных"
   ]
  },
  {
   "cell_type": "code",
   "execution_count": 954,
   "metadata": {},
   "outputs": [],
   "source": [
    "data = pd.read_csv('data/data.csv')"
   ]
  },
  {
   "cell_type": "code",
   "execution_count": 955,
   "metadata": {},
   "outputs": [
    {
     "data": {
      "text/plain": [
       "(377185, 18)"
      ]
     },
     "execution_count": 955,
     "metadata": {},
     "output_type": "execute_result"
    }
   ],
   "source": [
    "data.shape"
   ]
  },
  {
   "cell_type": "code",
   "execution_count": 956,
   "metadata": {},
   "outputs": [
    {
     "data": {
      "text/html": [
       "<div>\n",
       "<style scoped>\n",
       "    .dataframe tbody tr th:only-of-type {\n",
       "        vertical-align: middle;\n",
       "    }\n",
       "\n",
       "    .dataframe tbody tr th {\n",
       "        vertical-align: top;\n",
       "    }\n",
       "\n",
       "    .dataframe thead th {\n",
       "        text-align: right;\n",
       "    }\n",
       "</style>\n",
       "<table border=\"1\" class=\"dataframe\">\n",
       "  <thead>\n",
       "    <tr style=\"text-align: right;\">\n",
       "      <th></th>\n",
       "      <th>status</th>\n",
       "      <th>private pool</th>\n",
       "      <th>propertyType</th>\n",
       "      <th>street</th>\n",
       "      <th>baths</th>\n",
       "      <th>homeFacts</th>\n",
       "      <th>fireplace</th>\n",
       "      <th>city</th>\n",
       "      <th>schools</th>\n",
       "      <th>sqft</th>\n",
       "      <th>zipcode</th>\n",
       "      <th>beds</th>\n",
       "      <th>state</th>\n",
       "      <th>stories</th>\n",
       "      <th>mls-id</th>\n",
       "      <th>PrivatePool</th>\n",
       "      <th>MlsId</th>\n",
       "      <th>target</th>\n",
       "    </tr>\n",
       "  </thead>\n",
       "  <tbody>\n",
       "    <tr>\n",
       "      <th>0</th>\n",
       "      <td>Active</td>\n",
       "      <td>NaN</td>\n",
       "      <td>Single Family Home</td>\n",
       "      <td>240 Heather Ln</td>\n",
       "      <td>3.5</td>\n",
       "      <td>{'atAGlanceFacts': [{'factValue': '2019', 'fac...</td>\n",
       "      <td>Gas Logs</td>\n",
       "      <td>Southern Pines</td>\n",
       "      <td>[{'rating': ['4', '4', '7', 'NR', '4', '7', 'N...</td>\n",
       "      <td>2900</td>\n",
       "      <td>28387</td>\n",
       "      <td>4</td>\n",
       "      <td>NC</td>\n",
       "      <td>NaN</td>\n",
       "      <td>NaN</td>\n",
       "      <td>NaN</td>\n",
       "      <td>611019</td>\n",
       "      <td>$418,000</td>\n",
       "    </tr>\n",
       "    <tr>\n",
       "      <th>1</th>\n",
       "      <td>for sale</td>\n",
       "      <td>NaN</td>\n",
       "      <td>single-family home</td>\n",
       "      <td>12911 E Heroy Ave</td>\n",
       "      <td>3 Baths</td>\n",
       "      <td>{'atAGlanceFacts': [{'factValue': '2019', 'fac...</td>\n",
       "      <td>NaN</td>\n",
       "      <td>Spokane Valley</td>\n",
       "      <td>[{'rating': ['4/10', 'None/10', '4/10'], 'data...</td>\n",
       "      <td>1,947 sqft</td>\n",
       "      <td>99216</td>\n",
       "      <td>3 Beds</td>\n",
       "      <td>WA</td>\n",
       "      <td>2.0</td>\n",
       "      <td>NaN</td>\n",
       "      <td>NaN</td>\n",
       "      <td>201916904</td>\n",
       "      <td>$310,000</td>\n",
       "    </tr>\n",
       "    <tr>\n",
       "      <th>2</th>\n",
       "      <td>for sale</td>\n",
       "      <td>NaN</td>\n",
       "      <td>single-family home</td>\n",
       "      <td>2005 Westridge Rd</td>\n",
       "      <td>2 Baths</td>\n",
       "      <td>{'atAGlanceFacts': [{'factValue': '1961', 'fac...</td>\n",
       "      <td>yes</td>\n",
       "      <td>Los Angeles</td>\n",
       "      <td>[{'rating': ['8/10', '4/10', '8/10'], 'data': ...</td>\n",
       "      <td>3,000 sqft</td>\n",
       "      <td>90049</td>\n",
       "      <td>3 Beds</td>\n",
       "      <td>CA</td>\n",
       "      <td>1.0</td>\n",
       "      <td>NaN</td>\n",
       "      <td>yes</td>\n",
       "      <td>FR19221027</td>\n",
       "      <td>$2,895,000</td>\n",
       "    </tr>\n",
       "  </tbody>\n",
       "</table>\n",
       "</div>"
      ],
      "text/plain": [
       "     status private pool        propertyType             street    baths  \\\n",
       "0    Active          NaN  Single Family Home     240 Heather Ln      3.5   \n",
       "1  for sale          NaN  single-family home  12911 E Heroy Ave  3 Baths   \n",
       "2  for sale          NaN  single-family home  2005 Westridge Rd  2 Baths   \n",
       "\n",
       "                                           homeFacts fireplace  \\\n",
       "0  {'atAGlanceFacts': [{'factValue': '2019', 'fac...  Gas Logs   \n",
       "1  {'atAGlanceFacts': [{'factValue': '2019', 'fac...       NaN   \n",
       "2  {'atAGlanceFacts': [{'factValue': '1961', 'fac...       yes   \n",
       "\n",
       "             city                                            schools  \\\n",
       "0  Southern Pines  [{'rating': ['4', '4', '7', 'NR', '4', '7', 'N...   \n",
       "1  Spokane Valley  [{'rating': ['4/10', 'None/10', '4/10'], 'data...   \n",
       "2     Los Angeles  [{'rating': ['8/10', '4/10', '8/10'], 'data': ...   \n",
       "\n",
       "         sqft zipcode    beds state stories mls-id PrivatePool       MlsId  \\\n",
       "0        2900   28387       4    NC     NaN    NaN         NaN      611019   \n",
       "1  1,947 sqft   99216  3 Beds    WA     2.0    NaN         NaN   201916904   \n",
       "2  3,000 sqft   90049  3 Beds    CA     1.0    NaN         yes  FR19221027   \n",
       "\n",
       "       target  \n",
       "0    $418,000  \n",
       "1    $310,000  \n",
       "2  $2,895,000  "
      ]
     },
     "execution_count": 956,
     "metadata": {},
     "output_type": "execute_result"
    }
   ],
   "source": [
    "data.head(3)"
   ]
  },
  {
   "attachments": {},
   "cell_type": "markdown",
   "metadata": {},
   "source": [
    "Проверяем и удалаяем дубликаты"
   ]
  },
  {
   "cell_type": "code",
   "execution_count": 957,
   "metadata": {},
   "outputs": [
    {
     "data": {
      "text/plain": [
       "50"
      ]
     },
     "execution_count": 957,
     "metadata": {},
     "output_type": "execute_result"
    }
   ],
   "source": [
    "data.duplicated().sum()"
   ]
  },
  {
   "cell_type": "code",
   "execution_count": 958,
   "metadata": {},
   "outputs": [],
   "source": [
    "data.drop_duplicates(inplace=True, ignore_index=False)"
   ]
  },
  {
   "cell_type": "code",
   "execution_count": 959,
   "metadata": {},
   "outputs": [
    {
     "data": {
      "text/plain": [
       "(377135, 18)"
      ]
     },
     "execution_count": 959,
     "metadata": {},
     "output_type": "execute_result"
    }
   ],
   "source": [
    "data.shape"
   ]
  },
  {
   "cell_type": "code",
   "execution_count": 960,
   "metadata": {},
   "outputs": [
    {
     "name": "stdout",
     "output_type": "stream",
     "text": [
      "<class 'pandas.core.frame.DataFrame'>\n",
      "Int64Index: 377135 entries, 0 to 377184\n",
      "Data columns (total 18 columns):\n",
      " #   Column        Non-Null Count   Dtype \n",
      "---  ------        --------------   ----- \n",
      " 0   status        337218 non-null  object\n",
      " 1   private pool  4181 non-null    object\n",
      " 2   propertyType  342402 non-null  object\n",
      " 3   street        377133 non-null  object\n",
      " 4   baths         270827 non-null  object\n",
      " 5   homeFacts     377135 non-null  object\n",
      " 6   fireplace     103112 non-null  object\n",
      " 7   city          377101 non-null  object\n",
      " 8   schools       377135 non-null  object\n",
      " 9   sqft          336585 non-null  object\n",
      " 10  zipcode       377135 non-null  object\n",
      " 11  beds          285881 non-null  object\n",
      " 12  state         377135 non-null  object\n",
      " 13  stories       226462 non-null  object\n",
      " 14  mls-id        24942 non-null   object\n",
      " 15  PrivatePool   40310 non-null   object\n",
      " 16  MlsId         310266 non-null  object\n",
      " 17  target        374655 non-null  object\n",
      "dtypes: object(18)\n",
      "memory usage: 54.7+ MB\n"
     ]
    }
   ],
   "source": [
    "data.info()"
   ]
  },
  {
   "attachments": {},
   "cell_type": "markdown",
   "metadata": {},
   "source": [
    "Оцениваем как потенциально могут влиять признаки в зависимости от их уникальных значений"
   ]
  },
  {
   "cell_type": "code",
   "execution_count": 961,
   "metadata": {},
   "outputs": [
    {
     "name": "stdout",
     "output_type": "stream",
     "text": [
      "Количество уникальных значений у параметра status = 159 и их доля равна 0%\n",
      "Количество уникальных значений у параметра private pool = 1 и их доля равна 0%\n",
      "Количество уникальных значений у параметра propertyType = 1280 и их доля равна 0%\n",
      "Количество уникальных значений у параметра street = 337076 и их доля равна 89%\n",
      "Количество уникальных значений у параметра baths = 229 и их доля равна 0%\n",
      "Количество уникальных значений у параметра homeFacts = 321009 и их доля равна 85%\n",
      "Количество уникальных значений у параметра fireplace = 1653 и их доля равна 2%\n",
      "Количество уникальных значений у параметра city = 2026 и их доля равна 1%\n",
      "Количество уникальных значений у параметра schools = 297365 и их доля равна 79%\n",
      "Количество уникальных значений у параметра sqft = 25405 и их доля равна 8%\n",
      "Количество уникальных значений у параметра zipcode = 4549 и их доля равна 1%\n",
      "Количество уникальных значений у параметра beds = 1184 и их доля равна 0%\n",
      "Количество уникальных значений у параметра state = 39 и их доля равна 0%\n",
      "Количество уникальных значений у параметра stories = 348 и их доля равна 0%\n",
      "Количество уникальных значений у параметра mls-id = 24907 и их доля равна 100%\n",
      "Количество уникальных значений у параметра PrivatePool = 2 и их доля равна 0%\n",
      "Количество уникальных значений у параметра MlsId = 232944 и их доля равна 75%\n",
      "Количество уникальных значений у параметра target = 43939 и их доля равна 12%\n"
     ]
    }
   ],
   "source": [
    "cols = data.columns\n",
    "for col in cols:\n",
    "    print(f'Количество уникальных значений у параметра {col} = {data[col].nunique()}'\n",
    "          + f' и их доля равна {round(data[col].nunique()/data[col].count() * 100)}%')"
   ]
  },
  {
   "attachments": {},
   "cell_type": "markdown",
   "metadata": {},
   "source": [
    "Оцениваем, в каких признаках доля пропусков более 30% и их на потенциальное удаление"
   ]
  },
  {
   "cell_type": "code",
   "execution_count": 962,
   "metadata": {},
   "outputs": [
    {
     "data": {
      "text/plain": [
       "['private pool', 'fireplace', 'stories', 'mls-id', 'PrivatePool']"
      ]
     },
     "execution_count": 962,
     "metadata": {},
     "output_type": "execute_result"
    }
   ],
   "source": [
    "cols = data.columns\n",
    "cols_to_drop_probably = []\n",
    "for col in cols:\n",
    "    if data[col].count() / data.shape[0] < 0.7:\n",
    "        cols_to_drop_probably.append(col)\n",
    "cols_to_drop_probably"
   ]
  },
  {
   "cell_type": "code",
   "execution_count": 963,
   "metadata": {},
   "outputs": [],
   "source": [
    "drop_data = data.copy()"
   ]
  },
  {
   "attachments": {},
   "cell_type": "markdown",
   "metadata": {},
   "source": [
    "Добавляем признак MlsId, не имеющий смысла"
   ]
  },
  {
   "cell_type": "code",
   "execution_count": 964,
   "metadata": {},
   "outputs": [],
   "source": [
    "drop_data.drop(['private pool', 'fireplace', 'stories', 'mls-id', 'PrivatePool', 'MlsId'], axis=1, inplace=True)"
   ]
  },
  {
   "cell_type": "code",
   "execution_count": 965,
   "metadata": {},
   "outputs": [
    {
     "name": "stdout",
     "output_type": "stream",
     "text": [
      "<class 'pandas.core.frame.DataFrame'>\n",
      "Int64Index: 377135 entries, 0 to 377184\n",
      "Data columns (total 12 columns):\n",
      " #   Column        Non-Null Count   Dtype \n",
      "---  ------        --------------   ----- \n",
      " 0   status        337218 non-null  object\n",
      " 1   propertyType  342402 non-null  object\n",
      " 2   street        377133 non-null  object\n",
      " 3   baths         270827 non-null  object\n",
      " 4   homeFacts     377135 non-null  object\n",
      " 5   city          377101 non-null  object\n",
      " 6   schools       377135 non-null  object\n",
      " 7   sqft          336585 non-null  object\n",
      " 8   zipcode       377135 non-null  object\n",
      " 9   beds          285881 non-null  object\n",
      " 10  state         377135 non-null  object\n",
      " 11  target        374655 non-null  object\n",
      "dtypes: object(12)\n",
      "memory usage: 37.4+ MB\n"
     ]
    }
   ],
   "source": [
    "drop_data.info()"
   ]
  },
  {
   "attachments": {},
   "cell_type": "markdown",
   "metadata": {},
   "source": [
    "Мне не нравится признак baths, в виду того, что в нем много пропусков (29%) и среди представленных данных много не точных (12+, 10,5+, 1/1-0/1-0, 1750 и пр.). Но чуть поработаем"
   ]
  },
  {
   "cell_type": "code",
   "execution_count": 967,
   "metadata": {},
   "outputs": [],
   "source": [
    "# Удалим все буквы, поскольку нам важно только количество\n",
    "drop_data['baths'] = drop_data['baths'].str.replace('[a-zA-Z]','', regex=True)\n",
    "# Удалим все пробелы\n",
    "drop_data['baths'] = drop_data['baths'].str.replace(' ','', regex=True)\n",
    "# Удалим :\n",
    "drop_data['baths'] = drop_data['baths'].str.replace(':','', regex=True)"
   ]
  },
  {
   "cell_type": "code",
   "execution_count": 968,
   "metadata": {},
   "outputs": [
    {
     "data": {
      "text/plain": [
       "array(['3.5', '3', '2', '8', nan, '1,750', '4', '5', '1,000', '7', '2.0',\n",
       "       '3.0', '1', '4.0', '2.1', '2.5', '4.5', '6', '2,500', '5.5', '1.0',\n",
       "       '1.5', '~', '4,000', '2,000', '3,000', '8.0', '0', '5.0', '1,500',\n",
       "       '7.0', '1,250', '9', '2,250', '6.0', '12', '3,500', '2,750', '750',\n",
       "       '5.5+', '10', '19', '10.0', '2.5+', '7.5+', '0/0', '..', '4.5+',\n",
       "       '18', '--', '3.5+', '1.5+', '11', '5,000', '1.75', '12.0', '1.1',\n",
       "       '6.5', '16', '13', '14', '9.0', '8.5+', '17', '241', '16.0',\n",
       "       '10.5+', '6.5+', '7,500+', '7.5', '11.0', '20', '40', '1-0/1-0/1',\n",
       "       '14.0', '2.75', '24', '22.0', '0.00', '2.25', '3.1', '3.25', '—',\n",
       "       '22', '32', '18.0', '0.0', '27', '26', '20.0', '9.5', '8.5', '15',\n",
       "       '35', '3.75', '29', '116/116/116', '21', '5.2', '14.5+', '76',\n",
       "       '13.0', '', '3-1/2-2', '15.0', '23', '3.3', '43', '1.25', '34',\n",
       "       '2.2', '1/1/1/1', '55.0', '25', '12.5+', '44', '0.5', '4.25',\n",
       "       '4.75', '0.75', '4.1', '5.25', '41.0', '1.8', '10.5', '9.5+', '36',\n",
       "       '30', '12.5', '24.0', '23.0', '28', '2.8', '34.0', '64.0', '11.5+',\n",
       "       '39', '30.0', '17.0', '42', '11.5', '3.2', '2-1/2-1/1-1/1-1', '60',\n",
       "       '1/1-0/1-0/1-0', '6.75', '1-2', '68', '44.0'], dtype=object)"
      ]
     },
     "execution_count": 968,
     "metadata": {},
     "output_type": "execute_result"
    }
   ],
   "source": [
    "drop_data['baths'].unique()"
   ]
  },
  {
   "cell_type": "code",
   "execution_count": 969,
   "metadata": {},
   "outputs": [],
   "source": [
    "drop_data['baths'] = drop_data['baths'].fillna('unknown')\n",
    "drop_data['baths'] = drop_data['baths'] \\\n",
    ".str.replace('~','unknown', regex=True) \\\n",
    ".str.replace('\\.\\.','unknown', regex=True) \\\n",
    ".str.replace('--','unknown', regex=True) \\\n",
    ".str.replace('—','unknown', regex=True) \\\n",
    ".str.replace('^\\s*$','unknown', regex=True) \\\n",
    ".str.replace('1-0/1-0/1','unknown', regex=True) \\\n",
    ".str.replace('116/116/116','unknown', regex=True) \\\n",
    ".str.replace('3-1/2-2','unknown', regex=True) \\\n",
    ".str.replace('1/1/1/1','unknown', regex=True) \\\n",
    ".str.replace('2-1/2-1/1-1/1-1','unknown', regex=True) \\\n",
    ".str.replace('1/1-0/1-0/1-0','unknown', regex=True) \\\n",
    ".str.replace('.*unknown.*','unknown', regex=True) \\\n",
    ".str.replace('1-2','unknown', regex=True) \\\n",
    ".str.replace('^0.0+','0', regex=True)"
   ]
  },
  {
   "cell_type": "code",
   "execution_count": 970,
   "metadata": {},
   "outputs": [],
   "source": [
    "drop_data['baths'] = drop_data['baths'] \\\n",
    ".str.replace('23.0','23', regex=True) \\\n",
    ".str.replace('44.0','44', regex=True) \\\n",
    ".str.replace('34.0','34', regex=True) \\\n",
    ".str.replace('30.0','30', regex=True) \\\n",
    ".str.replace('24.0','24', regex=True) \\\n",
    ".str.replace('241','24', regex=True) \\\n",
    ".str.replace('22.0','22', regex=True) \\\n",
    ".str.replace('20.0','20', regex=True) \\\n",
    ".str.replace('18.0','18', regex=True) \\\n",
    ".str.replace('17.0','17', regex=True) \\\n",
    ".str.replace('16.0','16', regex=True) \\\n",
    ".str.replace('15.0','15', regex=True) \\\n",
    ".str.replace('14.0','14', regex=True) \\\n",
    ".str.replace('13.0','13', regex=True) \\\n",
    ".str.replace('12.0','12', regex=True) \\\n",
    ".str.replace('11.0','11', regex=True) \\\n",
    ".str.replace('10.0','10', regex=True)"
   ]
  },
  {
   "cell_type": "code",
   "execution_count": 971,
   "metadata": {},
   "outputs": [
    {
     "name": "stderr",
     "output_type": "stream",
     "text": [
      "C:\\Users\\minni\\AppData\\Local\\Temp\\ipykernel_20136\\729927065.py:1: FutureWarning: The default value of regex will change from True to False in a future version. In addition, single character regular expressions will *not* be treated as literal strings when regex=True.\n",
      "  drop_data['baths'] = drop_data['baths'].str.replace('+', '').replace('unknown', 0).replace(',', '.')\n"
     ]
    }
   ],
   "source": [
    "drop_data['baths'] = drop_data['baths'].str.replace('+', '').replace('unknown', 0).replace(',', '.')\n",
    "drop_data['baths'] = drop_data['baths'].str.replace(',', '.')\n",
    "drop_data['baths'] = drop_data['baths'].astype('float')"
   ]
  },
  {
   "attachments": {},
   "cell_type": "markdown",
   "metadata": {},
   "source": [
    "Выделяем пропуски у признака sqft и приводим к числовому формату"
   ]
  },
  {
   "cell_type": "code",
   "execution_count": 972,
   "metadata": {},
   "outputs": [],
   "source": [
    "drop_data['sqft'] = drop_data['sqft'].apply(lambda x: str(x).lower().replace('sqft', '').replace(',', '').replace(' ', '').replace('--', '').replace('totalinteriorlivablearea:', '').replace('-', '').strip())\n",
    "drop_data['sqft'] = drop_data['sqft'].apply(lambda x: np.nan if x == '' else x)\n",
    "drop_data['sqft'] = drop_data['sqft'].astype('float')"
   ]
  },
  {
   "attachments": {},
   "cell_type": "markdown",
   "metadata": {},
   "source": [
    "Удаляем строки, где пропущены значения целевой переменной"
   ]
  },
  {
   "cell_type": "code",
   "execution_count": 973,
   "metadata": {},
   "outputs": [],
   "source": [
    "drop_data.dropna(subset=['target'], inplace=True)"
   ]
  },
  {
   "attachments": {},
   "cell_type": "markdown",
   "metadata": {},
   "source": [
    "Далее удаляем параметр Улица (много уникальных значений) и почтовый индекс (есть город и штат)"
   ]
  },
  {
   "cell_type": "code",
   "execution_count": 974,
   "metadata": {},
   "outputs": [],
   "source": [
    "drop_data.drop(['street', 'zipcode'], axis=1, inplace=True)"
   ]
  },
  {
   "attachments": {},
   "cell_type": "markdown",
   "metadata": {},
   "source": [
    "Оцениваем информацию в признаке school"
   ]
  },
  {
   "cell_type": "code",
   "execution_count": 975,
   "metadata": {},
   "outputs": [
    {
     "data": {
      "text/plain": [
       "0         [{'rating': ['4', '4', '7', 'NR', '4', '7', 'N...\n",
       "1         [{'rating': ['4/10', 'None/10', '4/10'], 'data...\n",
       "2         [{'rating': ['8/10', '4/10', '8/10'], 'data': ...\n",
       "3         [{'rating': ['9/10', '9/10', '10/10', '9/10'],...\n",
       "4         [{'rating': ['4/10', '5/10', '5/10'], 'data': ...\n",
       "                                ...                        \n",
       "377180    [{'rating': ['10/10', '5/10'], 'data': {'Dista...\n",
       "377181    [{'rating': ['1/10', '5/10', '7/10'], 'data': ...\n",
       "377182    [{'rating': ['5/10', '4/10'], 'data': {'Distan...\n",
       "377183    [{'rating': ['NA', 'NA', 'NA'], 'data': {'Dist...\n",
       "377184    [{'rating': ['5/10', '4/10', '3/10'], 'data': ...\n",
       "Name: schools, Length: 374655, dtype: object"
      ]
     },
     "execution_count": 975,
     "metadata": {},
     "output_type": "execute_result"
    }
   ],
   "source": [
    "drop_data['schools']"
   ]
  },
  {
   "attachments": {},
   "cell_type": "markdown",
   "metadata": {},
   "source": [
    "Далее получаем Расстояние до ближайшей школы **min_dist_to_school**"
   ]
  },
  {
   "cell_type": "code",
   "execution_count": 976,
   "metadata": {},
   "outputs": [],
   "source": [
    "drop_data['min_dist_to_school'] = drop_data['schools'].apply(lambda x: eval(x)[0].get('data').get('Distance'))\n",
    "\n",
    "drop_data['min_dist_to_school'] = drop_data['min_dist_to_school'].apply(lambda x: list(map(lambda y: float(y.replace('mi', '')), x)))\n",
    "\n",
    "drop_data['min_dist_to_school'] = drop_data['min_dist_to_school'].apply(lambda x: min(x) if len(x) > 0 else np.NaN)"
   ]
  },
  {
   "attachments": {},
   "cell_type": "markdown",
   "metadata": {},
   "source": [
    "Совершенно нет времени, но интересно еще поработать с Рейтингом"
   ]
  },
  {
   "attachments": {},
   "cell_type": "markdown",
   "metadata": {},
   "source": [
    "Оцениваем информацию в признаке homeFacts"
   ]
  },
  {
   "cell_type": "code",
   "execution_count": 977,
   "metadata": {},
   "outputs": [
    {
     "data": {
      "text/plain": [
       "array([\"{'atAGlanceFacts': [{'factValue': '2019', 'factLabel': 'Year built'}, {'factValue': '', 'factLabel': 'Remodeled year'}, {'factValue': 'Central A/C, Heat Pump', 'factLabel': 'Heating'}, {'factValue': '', 'factLabel': 'Cooling'}, {'factValue': '', 'factLabel': 'Parking'}, {'factValue': None, 'factLabel': 'lotsize'}, {'factValue': '$144', 'factLabel': 'Price/sqft'}]}\",\n",
       "       \"{'atAGlanceFacts': [{'factValue': '2019', 'factLabel': 'Year built'}, {'factValue': '', 'factLabel': 'Remodeled year'}, {'factValue': '', 'factLabel': 'Heating'}, {'factValue': '', 'factLabel': 'Cooling'}, {'factValue': '', 'factLabel': 'Parking'}, {'factValue': '5828 sqft', 'factLabel': 'lotsize'}, {'factValue': '$159/sqft', 'factLabel': 'Price/sqft'}]}\",\n",
       "       \"{'atAGlanceFacts': [{'factValue': '1961', 'factLabel': 'Year built'}, {'factValue': '1967', 'factLabel': 'Remodeled year'}, {'factValue': 'Forced Air', 'factLabel': 'Heating'}, {'factValue': 'Central', 'factLabel': 'Cooling'}, {'factValue': 'Attached Garage', 'factLabel': 'Parking'}, {'factValue': '8,626 sqft', 'factLabel': 'lotsize'}, {'factValue': '$965/sqft', 'factLabel': 'Price/sqft'}]}\",\n",
       "       ...,\n",
       "       \"{'atAGlanceFacts': [{'factValue': '1924', 'factLabel': 'Year built'}, {'factValue': '', 'factLabel': 'Remodeled year'}, {'factValue': 'Radiant', 'factLabel': 'Heating'}, {'factValue': '', 'factLabel': 'Cooling'}, {'factValue': 'None', 'factLabel': 'Parking'}, {'factValue': '', 'factLabel': 'lotsize'}, {'factValue': '$337/sqft', 'factLabel': 'Price/sqft'}]}\",\n",
       "       \"{'atAGlanceFacts': [{'factValue': '1950', 'factLabel': 'Year built'}, {'factValue': '1950', 'factLabel': 'Remodeled year'}, {'factValue': 'Other', 'factLabel': 'Heating'}, {'factValue': '', 'factLabel': 'Cooling'}, {'factValue': '2', 'factLabel': 'Parking'}, {'factValue': '1,600 sqft', 'factLabel': 'lotsize'}, {'factValue': '$458/sqft', 'factLabel': 'Price/sqft'}]}\",\n",
       "       \"{'atAGlanceFacts': [{'factValue': '2019', 'factLabel': 'Year built'}, {'factValue': None, 'factLabel': 'Remodeled year'}, {'factValue': 'Electric', 'factLabel': 'Heating'}, {'factValue': 'Central', 'factLabel': 'Cooling'}, {'factValue': 'No Data', 'factLabel': 'Parking'}, {'factValue': '6,969 sqft', 'factLabel': 'lotsize'}, {'factValue': '$140', 'factLabel': 'Price/sqft'}]}\"],\n",
       "      dtype=object)"
      ]
     },
     "execution_count": 977,
     "metadata": {},
     "output_type": "execute_result"
    }
   ],
   "source": [
    "drop_data['homeFacts'].unique()"
   ]
  },
  {
   "attachments": {},
   "cell_type": "markdown",
   "metadata": {},
   "source": [
    "Создаем новые признаки 'Year built', 'Remodeled year', 'Heating', 'Cooling', 'Parking', 'lotsize', 'Price/sqft'. В дальнейшем избавимся от ненужных."
   ]
  },
  {
   "cell_type": "code",
   "execution_count": 978,
   "metadata": {},
   "outputs": [],
   "source": [
    "new_home_facts_cols = ['Year built', 'Remodeled year', 'Heating', 'Cooling', 'Parking', 'lotsize', 'Price/sqft']\n",
    "\n",
    "for index, col in enumerate(new_home_facts_cols):\n",
    "    drop_data[col] = drop_data['homeFacts'].apply(lambda x: eval(x).get('atAGlanceFacts')[index].get('factValue'))"
   ]
  },
  {
   "attachments": {},
   "cell_type": "markdown",
   "metadata": {},
   "source": [
    "Удаляем признаки 'schools', 'homeFacts' из таблицы"
   ]
  },
  {
   "cell_type": "code",
   "execution_count": 979,
   "metadata": {},
   "outputs": [],
   "source": [
    "drop_data.drop(['schools', 'homeFacts'], axis=1, inplace=True)"
   ]
  },
  {
   "cell_type": "code",
   "execution_count": 980,
   "metadata": {},
   "outputs": [
    {
     "name": "stdout",
     "output_type": "stream",
     "text": [
      "<class 'pandas.core.frame.DataFrame'>\n",
      "Int64Index: 374655 entries, 0 to 377184\n",
      "Data columns (total 16 columns):\n",
      " #   Column              Non-Null Count   Dtype  \n",
      "---  ------              --------------   -----  \n",
      " 0   status              335399 non-null  object \n",
      " 1   propertyType        340101 non-null  object \n",
      " 2   baths               267819 non-null  float64\n",
      " 3   city                374621 non-null  object \n",
      " 4   sqft                333749 non-null  float64\n",
      " 5   beds                283726 non-null  object \n",
      " 6   state               374655 non-null  object \n",
      " 7   target              374655 non-null  object \n",
      " 8   min_dist_to_school  370398 non-null  float64\n",
      " 9   Year built          371090 non-null  object \n",
      " 10  Remodeled year      348316 non-null  object \n",
      " 11  Heating             371170 non-null  object \n",
      " 12  Cooling             371170 non-null  object \n",
      " 13  Parking             371170 non-null  object \n",
      " 14  lotsize             346453 non-null  object \n",
      " 15  Price/sqft          317467 non-null  object \n",
      "dtypes: float64(3), object(13)\n",
      "memory usage: 48.6+ MB\n"
     ]
    }
   ],
   "source": [
    "drop_data.info()"
   ]
  },
  {
   "attachments": {},
   "cell_type": "markdown",
   "metadata": {},
   "source": [
    "Удаляем lotsize и Price/sqft"
   ]
  },
  {
   "cell_type": "code",
   "execution_count": 981,
   "metadata": {},
   "outputs": [],
   "source": [
    "drop_data.drop(['lotsize', 'Price/sqft'], axis=1, inplace=True)"
   ]
  },
  {
   "attachments": {},
   "cell_type": "markdown",
   "metadata": {},
   "source": [
    "Далее работаем с признаком beds. Тут я рассмтаривал нескольк овариантов, с учетом отсутсвия времени и большой засорености в данных, уже забывал, что хотел сделать. В итоге алгоритм может излишний, но хотел сперва по разному отмечать пропущенные либо непонятные значения"
   ]
  },
  {
   "cell_type": "code",
   "execution_count": 982,
   "metadata": {},
   "outputs": [
    {
     "data": {
      "text/plain": [
       "array([  4.,   3.,   5.,  nan,   2.,   8.,   1.,   6.,  12.,  14.,   7.,\n",
       "         9.,   0.,  16.,  13.,  10.,  18.,  20.,  32.,  11.,  26.,  64.,\n",
       "       144.,  22.,  24.,  15.,  28.,  36.,  19.,  48.,  25.,  17.,  27.,\n",
       "        40.,  47.,  23.,  44.,  30.,  33.,  31.,  34.,  99.,  78.,  53.,\n",
       "        51.,  21.,  75.,  29.,  39.,  42.,  52.,  46.,  76.,  35.,  88.])"
      ]
     },
     "execution_count": 982,
     "metadata": {},
     "output_type": "execute_result"
    }
   ],
   "source": [
    "s = list(range(-2, 200))\n",
    "s = [str(x) for x in s]\n",
    "\n",
    "drop_data['new_beds'] = drop_data['beds'].apply(lambda x: -2 if x is np.nan else x)\n",
    "drop_data['new_beds'] = drop_data['new_beds'].apply(lambda x: str(x).replace(' Beds', '').replace(' bd', '').replace('.0', ''))\n",
    "drop_data['new_beds'] = drop_data['new_beds'].apply(lambda x: int(x) if (x != '-2') and (x in s) else np.nan)\n",
    "\n",
    "drop_data.drop(['beds'], axis=1, inplace=True)\n",
    "\n",
    "drop_data['new_beds'].unique()"
   ]
  },
  {
   "cell_type": "code",
   "execution_count": 983,
   "metadata": {},
   "outputs": [
    {
     "name": "stdout",
     "output_type": "stream",
     "text": [
      "<class 'pandas.core.frame.DataFrame'>\n",
      "Int64Index: 374655 entries, 0 to 377184\n",
      "Data columns (total 14 columns):\n",
      " #   Column              Non-Null Count   Dtype  \n",
      "---  ------              --------------   -----  \n",
      " 0   status              335399 non-null  object \n",
      " 1   propertyType        340101 non-null  object \n",
      " 2   baths               267819 non-null  float64\n",
      " 3   city                374621 non-null  object \n",
      " 4   sqft                333749 non-null  float64\n",
      " 5   state               374655 non-null  object \n",
      " 6   target              374655 non-null  object \n",
      " 7   min_dist_to_school  370398 non-null  float64\n",
      " 8   Year built          371090 non-null  object \n",
      " 9   Remodeled year      348316 non-null  object \n",
      " 10  Heating             371170 non-null  object \n",
      " 11  Cooling             371170 non-null  object \n",
      " 12  Parking             371170 non-null  object \n",
      " 13  new_beds            263550 non-null  float64\n",
      "dtypes: float64(4), object(10)\n",
      "memory usage: 42.9+ MB\n"
     ]
    }
   ],
   "source": [
    "drop_data.info()"
   ]
  },
  {
   "attachments": {},
   "cell_type": "markdown",
   "metadata": {},
   "source": [
    "Проверяем таблицу на потенциальное удаление столбцов"
   ]
  },
  {
   "cell_type": "code",
   "execution_count": 984,
   "metadata": {},
   "outputs": [
    {
     "data": {
      "text/plain": [
       "[]"
      ]
     },
     "execution_count": 984,
     "metadata": {},
     "output_type": "execute_result"
    }
   ],
   "source": [
    "cols = drop_data.columns\n",
    "cols_to_drop_probably = []\n",
    "for col in cols:\n",
    "    if drop_data[col].count() / drop_data.shape[0] < 0.7:\n",
    "        cols_to_drop_probably.append(col)\n",
    "cols_to_drop_probably"
   ]
  },
  {
   "attachments": {},
   "cell_type": "markdown",
   "metadata": {},
   "source": [
    "Работаем с 'Year built'"
   ]
  },
  {
   "cell_type": "code",
   "execution_count": 985,
   "metadata": {},
   "outputs": [
    {
     "data": {
      "text/plain": [
       "array(['2019', '1961', '2006', '', '1920', '1976', '1970', '1965', '2015',\n",
       "       '1996', '1982', '1905', '2008', '1899', '2016', '1954', '1989',\n",
       "       '2014', '1915', '1994', '1910', '1923', '1960', '1977', '1972',\n",
       "       '1963', '1981', '1949', '1930', '1991', '1958', '2005', '2017',\n",
       "       '2018', '1983', '1928', '1998', '1997', '1964', '1974', '1940',\n",
       "       '1973', '1968', '1999', '1918', '2007', '1984', '1946', '2003',\n",
       "       '2000', '2004', '1969', '2002', '1952', '1947', '1957', '1978',\n",
       "       '1956', '1967', '1975', '1988', '1955', '1950', '1959', '2012',\n",
       "       '1924', '1966', '1992', '2001', '1995', '2010', '1971', '1909',\n",
       "       '1953', '1993', '1990', '1980', '1985', '1951', '1907', '1885',\n",
       "       '1941', '1927', '1929', '1901', None, '1922', '1906', '1945',\n",
       "       '1979', '2009', '1962', '1913', '2011', '1897', '1987', '2020',\n",
       "       '1926', '1939', '1925', '2013', '1986', 'No Data', '1943', '1935',\n",
       "       '1890', '1895', '1911', '1948', '1942', '1916', '1900', '1931',\n",
       "       '1944', '1893', '1879', '1914', '1937', '1912', '1938', '1921',\n",
       "       '1860', '1850', '1936', '1861', '1898', '1908', '1865', '1917',\n",
       "       '1740', '1934', '1902', '1880', '1700', '1904', '1932', '1896',\n",
       "       '1892', '1830', '1919', '1933', '1875', '1888', '1832', '1903',\n",
       "       '1872', '1864', '1886', '2021', '1873', '1887', '1884', '1800',\n",
       "       '1889', '1852', '1870', '1858', '1869', '1894', '1840', '1881',\n",
       "       '1829', '1891', '1868', '1824', '1820', '1846', '1854', '1799',\n",
       "       '1828', '1878', '1876', '1815', '1877', '1810', '1835', '1822',\n",
       "       '1862', '1866', '1836', '1853', '1807', '1867', '1847', '1794',\n",
       "       '1874', '1848', '1795', '1831', '1883', '1803', '1871', '1859',\n",
       "       '1823', '1817', '1844', '1863', '559990649990', '1796', '1809',\n",
       "       '1851', '2022', '1882', '1842', '1818', '1', '1857', '1208',\n",
       "       '1825', '1845', '2025', '1811', '1855', '1750', '1057', '1703',\n",
       "       '1812', '1856', '1816', '1834', '1060', '1790', '1788', '1735',\n",
       "       '1019', '1805', '1843', '1808', '1804'], dtype=object)"
      ]
     },
     "execution_count": 985,
     "metadata": {},
     "output_type": "execute_result"
    }
   ],
   "source": [
    "drop_data['Year built'].unique()"
   ]
  },
  {
   "attachments": {},
   "cell_type": "markdown",
   "metadata": {},
   "source": [
    "Данные до преобразования"
   ]
  },
  {
   "cell_type": "code",
   "execution_count": 986,
   "metadata": {},
   "outputs": [
    {
     "data": {
      "text/plain": [
       "4          \n",
       "26         \n",
       "27         \n",
       "40         \n",
       "41         \n",
       "         ..\n",
       "377140     \n",
       "377141     \n",
       "377153     \n",
       "377154     \n",
       "377161     \n",
       "Name: Year built, Length: 59670, dtype: object"
      ]
     },
     "execution_count": 986,
     "metadata": {},
     "output_type": "execute_result"
    }
   ],
   "source": [
    "drop_data[(drop_data['Year built'] == '') | (drop_data['Year built'] == 'No Data') | (drop_data['Year built'] == '0')]['Year built']"
   ]
  },
  {
   "attachments": {},
   "cell_type": "markdown",
   "metadata": {},
   "source": [
    "Я решил, что если нет информации о годе постойки, но при этом есть даные о годе рконструкции, то можно взять их.\n",
    "\n",
    "В итоге немного, но они были.Части пропущенных данных о годе строительства берем из данных о реконструкции"
   ]
  },
  {
   "cell_type": "code",
   "execution_count": 987,
   "metadata": {},
   "outputs": [],
   "source": [
    "dd = drop_data.copy()"
   ]
  },
  {
   "cell_type": "code",
   "execution_count": 988,
   "metadata": {},
   "outputs": [
    {
     "name": "stderr",
     "output_type": "stream",
     "text": [
      "C:\\Users\\minni\\AppData\\Local\\Temp\\ipykernel_20136\\673592125.py:4: SettingWithCopyWarning: \n",
      "A value is trying to be set on a copy of a slice from a DataFrame\n",
      "\n",
      "See the caveats in the documentation: https://pandas.pydata.org/pandas-docs/stable/user_guide/indexing.html#returning-a-view-versus-a-copy\n",
      "  dd['Year built'].loc[i] = np.nan\n"
     ]
    }
   ],
   "source": [
    "\n",
    "for i in dd.index:\n",
    "    if (dd['Year built'].loc[i] == '') or (dd['Year built'].loc[i] == 'No Data') or (dd['Year built'].loc[i] == '0') or (dd['Year built'].loc[i] is np.nan) or (dd['Year built'].loc[i] is None):\n",
    "        dd['Year built'].loc[i] = np.nan"
   ]
  },
  {
   "cell_type": "code",
   "execution_count": 989,
   "metadata": {},
   "outputs": [],
   "source": [
    "drop_data['Year built'] = dd['Year built']"
   ]
  },
  {
   "attachments": {},
   "cell_type": "markdown",
   "metadata": {},
   "source": [
    "Данные после преобразования"
   ]
  },
  {
   "cell_type": "code",
   "execution_count": 990,
   "metadata": {},
   "outputs": [
    {
     "data": {
      "text/plain": [
       "Series([], Name: Year built, dtype: object)"
      ]
     },
     "execution_count": 990,
     "metadata": {},
     "output_type": "execute_result"
    }
   ],
   "source": [
    "drop_data[(drop_data['Year built'] == '') | (drop_data['Year built'] == 'No Data') | (drop_data['Year built'] == '0')]['Year built']"
   ]
  },
  {
   "attachments": {},
   "cell_type": "markdown",
   "metadata": {},
   "source": [
    "Далее потратил много времени на признак реконструкции, затем решил его удалить."
   ]
  },
  {
   "attachments": {},
   "cell_type": "markdown",
   "metadata": {},
   "source": [
    "Заполняем часть пропуском в данных по реконструкции, подразуемевая, что еесли пропуск, то реконструкция соответсвует году строительства"
   ]
  },
  {
   "cell_type": "code",
   "execution_count": 991,
   "metadata": {},
   "outputs": [],
   "source": [
    "# dd2 = drop_data.copy()"
   ]
  },
  {
   "attachments": {},
   "cell_type": "markdown",
   "metadata": {},
   "source": [
    "Как показал анализ, Remodeled year нужно удалить из-за большого числа пропусков"
   ]
  },
  {
   "cell_type": "code",
   "execution_count": 992,
   "metadata": {},
   "outputs": [
    {
     "name": "stderr",
     "output_type": "stream",
     "text": [
      "C:\\Users\\minni\\AppData\\Local\\Temp\\ipykernel_20136\\1768410461.py:5: SettingWithCopyWarning: \n",
      "A value is trying to be set on a copy of a slice from a DataFrame\n",
      "\n",
      "See the caveats in the documentation: https://pandas.pydata.org/pandas-docs/stable/user_guide/indexing.html#returning-a-view-versus-a-copy\n",
      "  dd2['Remodeled year'].loc[i] = np.nan\n"
     ]
    }
   ],
   "source": [
    "# for i in dd2.index:\n",
    "#     if (dd2['Remodeled year'].loc[i] == '') or (dd2['Remodeled year'].loc[i] == '0') or (dd2['Remodeled year'].loc[i] == 'No Data') or (dd2['Remodeled year'].loc[i] is np.nan) or (dd2['Remodeled year'].loc[i] is None):\n",
    "#         dd2['Remodeled year'].loc[i] = np.nan"
   ]
  },
  {
   "cell_type": "code",
   "execution_count": 995,
   "metadata": {},
   "outputs": [
    {
     "name": "stdout",
     "output_type": "stream",
     "text": [
      "<class 'pandas.core.frame.DataFrame'>\n",
      "Int64Index: 374655 entries, 0 to 377184\n",
      "Data columns (total 14 columns):\n",
      " #   Column              Non-Null Count   Dtype  \n",
      "---  ------              --------------   -----  \n",
      " 0   status              335399 non-null  object \n",
      " 1   propertyType        340101 non-null  object \n",
      " 2   baths               267819 non-null  float64\n",
      " 3   city                374621 non-null  object \n",
      " 4   sqft                333749 non-null  float64\n",
      " 5   state               374655 non-null  object \n",
      " 6   target              374655 non-null  object \n",
      " 7   min_dist_to_school  370398 non-null  float64\n",
      " 8   Year built          311420 non-null  object \n",
      " 9   Remodeled year      149564 non-null  object \n",
      " 10  Heating             371170 non-null  object \n",
      " 11  Cooling             371170 non-null  object \n",
      " 12  Parking             371170 non-null  object \n",
      " 13  new_beds            263550 non-null  float64\n",
      "dtypes: float64(4), object(10)\n",
      "memory usage: 50.9+ MB\n"
     ]
    }
   ],
   "source": [
    "drop_data.info()"
   ]
  },
  {
   "cell_type": "code",
   "execution_count": 996,
   "metadata": {},
   "outputs": [
    {
     "data": {
      "text/plain": [
       "Remodeled year        60.079540\n",
       "new_beds              29.655283\n",
       "baths                 28.515835\n",
       "Year built            16.878195\n",
       "sqft                  10.918312\n",
       "status                10.477906\n",
       "propertyType           9.222885\n",
       "min_dist_to_school     1.136245\n",
       "Heating                0.930189\n",
       "Cooling                0.930189\n",
       "Parking                0.930189\n",
       "city                   0.009075\n",
       "dtype: float64"
      ]
     },
     "execution_count": 996,
     "metadata": {},
     "output_type": "execute_result"
    }
   ],
   "source": [
    "cols_null_percent = drop_data.isnull().mean() * 100\n",
    "cols_with_null = cols_null_percent[cols_null_percent > 0].sort_values(ascending=False)\n",
    "cols_with_null"
   ]
  },
  {
   "cell_type": "code",
   "execution_count": 997,
   "metadata": {},
   "outputs": [
    {
     "data": {
      "image/png": "[encoded data removed]",
      "text/plain": [
       "<Figure size 1200x800 with 2 Axes>"
      ]
     },
     "metadata": {},
     "output_type": "display_data"
    }
   ],
   "source": [
    "plt.figure(figsize=(12, 8))\n",
    "sns.heatmap(drop_data.isnull());"
   ]
  },
  {
   "cell_type": "code",
   "execution_count": 998,
   "metadata": {},
   "outputs": [
    {
     "data": {
      "image/png": "[encoded data removed]",
      "text/plain": [
       "<Figure size 1000x800 with 2 Axes>"
      ]
     },
     "metadata": {},
     "output_type": "display_data"
    }
   ],
   "source": [
    "plt.figure(figsize=(10, 8))\n",
    "sns.heatmap(drop_data[cols_with_null.index].isnull());"
   ]
  },
  {
   "attachments": {},
   "cell_type": "markdown",
   "metadata": {},
   "source": [
    "**Ниже код привидения к числовому формату**"
   ]
  },
  {
   "cell_type": "code",
   "execution_count": 1002,
   "metadata": {},
   "outputs": [],
   "source": [
    "drop_data['Year built'] = drop_data['Year built'].astype('float')"
   ]
  },
  {
   "cell_type": "code",
   "execution_count": 1003,
   "metadata": {},
   "outputs": [
    {
     "name": "stdout",
     "output_type": "stream",
     "text": [
      "<class 'pandas.core.frame.DataFrame'>\n",
      "Int64Index: 374655 entries, 0 to 377184\n",
      "Data columns (total 14 columns):\n",
      " #   Column              Non-Null Count   Dtype  \n",
      "---  ------              --------------   -----  \n",
      " 0   status              335399 non-null  object \n",
      " 1   propertyType        340101 non-null  object \n",
      " 2   baths               267819 non-null  float64\n",
      " 3   city                374621 non-null  object \n",
      " 4   sqft                333749 non-null  float64\n",
      " 5   state               374655 non-null  object \n",
      " 6   target              374655 non-null  object \n",
      " 7   min_dist_to_school  370398 non-null  float64\n",
      " 8   Year built          311420 non-null  float64\n",
      " 9   Remodeled year      149564 non-null  float64\n",
      " 10  Heating             371170 non-null  object \n",
      " 11  Cooling             371170 non-null  object \n",
      " 12  Parking             371170 non-null  object \n",
      " 13  new_beds            263550 non-null  float64\n",
      "dtypes: float64(6), object(8)\n",
      "memory usage: 50.9+ MB\n"
     ]
    }
   ],
   "source": [
    "drop_data.info()"
   ]
  },
  {
   "attachments": {},
   "cell_type": "markdown",
   "metadata": {},
   "source": [
    "Далее убираем ошибочные данные"
   ]
  },
  {
   "cell_type": "code",
   "execution_count": null,
   "metadata": {},
   "outputs": [],
   "source": [
    "sns.boxplot(drop_data['Year built']);"
   ]
  },
  {
   "attachments": {},
   "cell_type": "markdown",
   "metadata": {},
   "source": [
    "Удаляем строки, с годом постройки менее 100 и более 2023"
   ]
  },
  {
   "cell_type": "code",
   "execution_count": 1004,
   "metadata": {},
   "outputs": [
    {
     "data": {
      "text/plain": [
       "4"
      ]
     },
     "execution_count": 1004,
     "metadata": {},
     "output_type": "execute_result"
    }
   ],
   "source": [
    "(drop_data['Year built'] > 2023).sum()"
   ]
  },
  {
   "cell_type": "code",
   "execution_count": 1005,
   "metadata": {},
   "outputs": [
    {
     "data": {
      "text/plain": [
       "2"
      ]
     },
     "execution_count": 1005,
     "metadata": {},
     "output_type": "execute_result"
    }
   ],
   "source": [
    "(drop_data['Year built'] < 1000).sum()"
   ]
  },
  {
   "cell_type": "code",
   "execution_count": 1006,
   "metadata": {},
   "outputs": [],
   "source": [
    "drop_data = drop_data[(drop_data['Year built'] > 100) & (drop_data['Year built'] < 2024)]"
   ]
  },
  {
   "cell_type": "code",
   "execution_count": 1007,
   "metadata": {},
   "outputs": [
    {
     "name": "stdout",
     "output_type": "stream",
     "text": [
      "<class 'pandas.core.frame.DataFrame'>\n",
      "Int64Index: 311414 entries, 0 to 377184\n",
      "Data columns (total 14 columns):\n",
      " #   Column              Non-Null Count   Dtype  \n",
      "---  ------              --------------   -----  \n",
      " 0   status              276532 non-null  object \n",
      " 1   propertyType        294168 non-null  object \n",
      " 2   baths               244637 non-null  float64\n",
      " 3   city                311405 non-null  object \n",
      " 4   sqft                303869 non-null  float64\n",
      " 5   state               311414 non-null  object \n",
      " 6   target              311414 non-null  object \n",
      " 7   min_dist_to_school  308886 non-null  float64\n",
      " 8   Year built          311414 non-null  float64\n",
      " 9   Remodeled year      148225 non-null  float64\n",
      " 10  Heating             311414 non-null  object \n",
      " 11  Cooling             311414 non-null  object \n",
      " 12  Parking             311414 non-null  object \n",
      " 13  new_beds            245077 non-null  float64\n",
      "dtypes: float64(6), object(8)\n",
      "memory usage: 35.6+ MB\n"
     ]
    }
   ],
   "source": [
    "drop_data.info()"
   ]
  },
  {
   "attachments": {},
   "cell_type": "markdown",
   "metadata": {},
   "source": [
    "Работаем с 'target'"
   ]
  },
  {
   "cell_type": "code",
   "execution_count": 1008,
   "metadata": {},
   "outputs": [
    {
     "data": {
      "text/plain": [
       "$225,000    1279\n",
       "$275,000    1206\n",
       "$299,900    1183\n",
       "$249,900    1163\n",
       "$399,000    1150\n",
       "            ... \n",
       "$48,780        1\n",
       "$197,899       1\n",
       "$487,524       1\n",
       "447,365        1\n",
       "$171,306       1\n",
       "Name: target, Length: 36822, dtype: int64"
      ]
     },
     "execution_count": 1008,
     "metadata": {},
     "output_type": "execute_result"
    }
   ],
   "source": [
    "drop_data['target'].value_counts()"
   ]
  },
  {
   "cell_type": "code",
   "execution_count": 1009,
   "metadata": {},
   "outputs": [],
   "source": [
    "drop_data['target'] = drop_data['target'].apply(lambda x: str(x).replace('$', '').replace(',', '').replace(' ', '').replace('+', ''))"
   ]
  },
  {
   "cell_type": "code",
   "execution_count": 1010,
   "metadata": {},
   "outputs": [
    {
     "data": {
      "text/plain": [
       "225000    1547\n",
       "275000    1441\n",
       "350000    1424\n",
       "299900    1419\n",
       "399000    1407\n",
       "          ... \n",
       "215087       1\n",
       "882000       1\n",
       "167626       1\n",
       "216777       1\n",
       "171306       1\n",
       "Name: target, Length: 29695, dtype: int64"
      ]
     },
     "execution_count": 1010,
     "metadata": {},
     "output_type": "execute_result"
    }
   ],
   "source": [
    "drop_data['target'].value_counts()"
   ]
  },
  {
   "cell_type": "code",
   "execution_count": 1011,
   "metadata": {},
   "outputs": [
    {
     "name": "stdout",
     "output_type": "stream",
     "text": [
      "<class 'pandas.core.frame.DataFrame'>\n",
      "Int64Index: 311414 entries, 0 to 377184\n",
      "Data columns (total 14 columns):\n",
      " #   Column              Non-Null Count   Dtype  \n",
      "---  ------              --------------   -----  \n",
      " 0   status              276532 non-null  object \n",
      " 1   propertyType        294168 non-null  object \n",
      " 2   baths               244637 non-null  float64\n",
      " 3   city                311405 non-null  object \n",
      " 4   sqft                303869 non-null  float64\n",
      " 5   state               311414 non-null  object \n",
      " 6   target              311414 non-null  object \n",
      " 7   min_dist_to_school  308886 non-null  float64\n",
      " 8   Year built          311414 non-null  float64\n",
      " 9   Remodeled year      148225 non-null  float64\n",
      " 10  Heating             311414 non-null  object \n",
      " 11  Cooling             311414 non-null  object \n",
      " 12  Parking             311414 non-null  object \n",
      " 13  new_beds            245077 non-null  float64\n",
      "dtypes: float64(6), object(8)\n",
      "memory usage: 35.6+ MB\n"
     ]
    }
   ],
   "source": [
    "drop_data.info()"
   ]
  },
  {
   "attachments": {},
   "cell_type": "markdown",
   "metadata": {},
   "source": [
    "Используем дата сет без сдачи в аренду"
   ]
  },
  {
   "cell_type": "code",
   "execution_count": 1012,
   "metadata": {},
   "outputs": [],
   "source": [
    "df_fs = drop_data.copy()"
   ]
  },
  {
   "cell_type": "code",
   "execution_count": 1013,
   "metadata": {},
   "outputs": [],
   "source": [
    "df_fs = df_fs[df_fs['status'] != 'for rent']"
   ]
  },
  {
   "cell_type": "code",
   "execution_count": 1014,
   "metadata": {},
   "outputs": [],
   "source": [
    "df_fs['target'] = df_fs['target'].astype('int')"
   ]
  },
  {
   "cell_type": "code",
   "execution_count": 1015,
   "metadata": {},
   "outputs": [
    {
     "data": {
      "text/plain": [
       "count    3.110280e+05\n",
       "mean     6.539343e+05\n",
       "std      1.788873e+06\n",
       "min      1.000000e+00\n",
       "25%      2.099000e+05\n",
       "50%      3.395000e+05\n",
       "75%      5.990000e+05\n",
       "max      1.950000e+08\n",
       "Name: target, dtype: float64"
      ]
     },
     "execution_count": 1015,
     "metadata": {},
     "output_type": "execute_result"
    }
   ],
   "source": [
    "df_fs['target'].describe()"
   ]
  },
  {
   "cell_type": "code",
   "execution_count": 1016,
   "metadata": {},
   "outputs": [
    {
     "name": "stdout",
     "output_type": "stream",
     "text": [
      "<class 'pandas.core.frame.DataFrame'>\n",
      "Int64Index: 311028 entries, 0 to 377184\n",
      "Data columns (total 14 columns):\n",
      " #   Column              Non-Null Count   Dtype  \n",
      "---  ------              --------------   -----  \n",
      " 0   status              276146 non-null  object \n",
      " 1   propertyType        293782 non-null  object \n",
      " 2   baths               244336 non-null  float64\n",
      " 3   city                311019 non-null  object \n",
      " 4   sqft                303493 non-null  float64\n",
      " 5   state               311028 non-null  object \n",
      " 6   target              311028 non-null  int32  \n",
      " 7   min_dist_to_school  308507 non-null  float64\n",
      " 8   Year built          311028 non-null  float64\n",
      " 9   Remodeled year      148225 non-null  float64\n",
      " 10  Heating             311028 non-null  object \n",
      " 11  Cooling             311028 non-null  object \n",
      " 12  Parking             311028 non-null  object \n",
      " 13  new_beds            244737 non-null  float64\n",
      "dtypes: float64(6), int32(1), object(7)\n",
      "memory usage: 34.4+ MB\n"
     ]
    }
   ],
   "source": [
    "df_fs.info()"
   ]
  },
  {
   "cell_type": "code",
   "execution_count": 1017,
   "metadata": {},
   "outputs": [
    {
     "data": {
      "text/plain": [
       "(10, 14)"
      ]
     },
     "execution_count": 1017,
     "metadata": {},
     "output_type": "execute_result"
    }
   ],
   "source": [
    "df_fs[df_fs['target'] == 1].shape"
   ]
  },
  {
   "attachments": {},
   "cell_type": "markdown",
   "metadata": {},
   "source": [
    "Удаляем стоимость равную 1"
   ]
  },
  {
   "cell_type": "code",
   "execution_count": 1018,
   "metadata": {},
   "outputs": [],
   "source": [
    "df_fs = df_fs[df_fs['target'] > 1]"
   ]
  },
  {
   "cell_type": "code",
   "execution_count": 1019,
   "metadata": {},
   "outputs": [
    {
     "name": "stdout",
     "output_type": "stream",
     "text": [
      "<class 'pandas.core.frame.DataFrame'>\n",
      "Int64Index: 311018 entries, 0 to 377184\n",
      "Data columns (total 14 columns):\n",
      " #   Column              Non-Null Count   Dtype  \n",
      "---  ------              --------------   -----  \n",
      " 0   status              276138 non-null  object \n",
      " 1   propertyType        293772 non-null  object \n",
      " 2   baths               244330 non-null  float64\n",
      " 3   city                311009 non-null  object \n",
      " 4   sqft                303484 non-null  float64\n",
      " 5   state               311018 non-null  object \n",
      " 6   target              311018 non-null  int32  \n",
      " 7   min_dist_to_school  308497 non-null  float64\n",
      " 8   Year built          311018 non-null  float64\n",
      " 9   Remodeled year      148220 non-null  float64\n",
      " 10  Heating             311018 non-null  object \n",
      " 11  Cooling             311018 non-null  object \n",
      " 12  Parking             311018 non-null  object \n",
      " 13  new_beds            244729 non-null  float64\n",
      "dtypes: float64(6), int32(1), object(7)\n",
      "memory usage: 34.4+ MB\n"
     ]
    }
   ],
   "source": [
    "df_fs.info()"
   ]
  },
  {
   "attachments": {},
   "cell_type": "markdown",
   "metadata": {},
   "source": [
    "Приводим текстовые признаки к нижнему регистру"
   ]
  },
  {
   "cell_type": "code",
   "execution_count": 1020,
   "metadata": {},
   "outputs": [],
   "source": [
    "cols = ['status', 'propertyType', 'Heating', 'Cooling', 'Parking']\n",
    "for col in cols:\n",
    "    df_fs[col] = df_fs[col].str.lower()"
   ]
  },
  {
   "cell_type": "code",
   "execution_count": 1021,
   "metadata": {},
   "outputs": [
    {
     "name": "stdout",
     "output_type": "stream",
     "text": [
      "Доля пропусков в столбце status = 11%\n",
      "Доля пропусков в столбце propertyType = 6%\n",
      "Доля пропусков в столбце Heating = 20%\n",
      "Доля пропусков в столбце Cooling = 23%\n",
      "Доля пропусков в столбце Parking = 41%\n"
     ]
    }
   ],
   "source": [
    "cols = ['status', 'propertyType', 'Heating', 'Cooling', 'Parking']\n",
    "for col in cols:\n",
    "    df_fs[col] = df_fs[col].apply(lambda x: np.nan if (x == '') or (x == 'no data') or (x == 'nan') or (x is None) or (x is np.nan) else x)\n",
    "    print(f'Доля пропусков в столбце {col} = {round(df_fs[col].isna().sum() / df_fs.shape[0]*100)}%')"
   ]
  },
  {
   "attachments": {},
   "cell_type": "markdown",
   "metadata": {},
   "source": [
    "Удаляем Parking и Remodeled year"
   ]
  },
  {
   "cell_type": "code",
   "execution_count": 1022,
   "metadata": {},
   "outputs": [],
   "source": [
    "df_fs = df_fs.drop(['Parking', 'Remodeled year'], axis=1)"
   ]
  },
  {
   "attachments": {},
   "cell_type": "markdown",
   "metadata": {},
   "source": [
    "Здесь конечно вызывают вопросы Heating и Cooling, но на них нет времени. Просто добавим моду к ним"
   ]
  },
  {
   "attachments": {},
   "cell_type": "markdown",
   "metadata": {},
   "source": [
    "Проверяем долю пропусков"
   ]
  },
  {
   "cell_type": "code",
   "execution_count": 1023,
   "metadata": {},
   "outputs": [
    {
     "name": "stdout",
     "output_type": "stream",
     "text": [
      "Доля пропусков в столбце status = 11%\n",
      "Доля пропусков в столбце propertyType = 6%\n",
      "Доля пропусков в столбце Heating = 20%\n",
      "Доля пропусков в столбце Cooling = 23%\n"
     ]
    }
   ],
   "source": [
    "cols = ['status', 'propertyType', 'Heating', 'Cooling']\n",
    "for col in cols:\n",
    "    print(f'Доля пропусков в столбце {col} = {round(df_fs[col].isna().sum() / df_fs.shape[0]*100)}%')"
   ]
  },
  {
   "attachments": {},
   "cell_type": "markdown",
   "metadata": {},
   "source": [
    "Удаляем строки с двумя и более пропусками"
   ]
  },
  {
   "cell_type": "code",
   "execution_count": 1024,
   "metadata": {},
   "outputs": [
    {
     "name": "stdout",
     "output_type": "stream",
     "text": [
      "До удаления (311018, 12)\n",
      "После удаления (270666, 12)\n"
     ]
    }
   ],
   "source": [
    "print(f'До удаления {df_fs.shape}')\n",
    "m = df_fs.shape[1] #число признаков после удаления столбцов\n",
    "df_fs.dropna(thresh=m-2, axis=0, inplace=True)\n",
    "print(f'После удаления {df_fs.shape}')"
   ]
  },
  {
   "attachments": {},
   "cell_type": "markdown",
   "metadata": {},
   "source": [
    "Работаем со status"
   ]
  },
  {
   "attachments": {},
   "cell_type": "markdown",
   "metadata": {},
   "source": [
    "Встречаются значения, отличающиеся запятой или наличием лишнего пробела, например 'pending, continue to show', 'pending continue to show', 'pending   continue to show'. Чтобы избавится от подобного удалим все пробелы и запятые\n",
    "\n",
    "Также присутствуют значения 'pendingwithcontingencies' и 'pendingw/cont.'. Объединим их в одно."
   ]
  },
  {
   "cell_type": "code",
   "execution_count": 1025,
   "metadata": {},
   "outputs": [
    {
     "name": "stderr",
     "output_type": "stream",
     "text": [
      "C:\\Users\\minni\\AppData\\Local\\Temp\\ipykernel_20136\\361438481.py:3: FutureWarning: The default value of regex will change from True to False in a future version.\n",
      "  df_fs['status'] = df_fs['status'].str.replace('pendingw/cont.','pendingwithcontingencies')\n"
     ]
    }
   ],
   "source": [
    "df_fs['status'] = df_fs['status'].str.replace('a active','active')\n",
    "df_fs['status'] = df_fs['status'].str.replace(' ','').str.replace(',','')\n",
    "df_fs['status'] = df_fs['status'].str.replace('pendingw/cont.','pendingwithcontingencies')\n",
    "\n"
   ]
  },
  {
   "attachments": {},
   "cell_type": "markdown",
   "metadata": {},
   "source": [
    "Объединим 'active-contingent', 'active/contingent', 'activecontingency', 'activewithcontingencies', 'activecontingent' в одно"
   ]
  },
  {
   "cell_type": "code",
   "execution_count": 1026,
   "metadata": {},
   "outputs": [],
   "source": [
    "df_fs['status'] = df_fs['status'] \\\n",
    ".str.replace('active-contingent','activecontingent') \\\n",
    ".str.replace('active/contingent','activecontingent') \\\n",
    ".str.replace('activecontingency','activecontingent') \\\n",
    ".str.replace('activewithcontingencies','activecontingent')"
   ]
  },
  {
   "cell_type": "code",
   "execution_count": 1027,
   "metadata": {},
   "outputs": [
    {
     "data": {
      "text/plain": [
       "forsale              161247\n",
       "active                52772\n",
       "foreclosure            5335\n",
       "newconstruction        4691\n",
       "pending                4231\n",
       "                      ...  \n",
       "contingentnoshow          1\n",
       "pendingsale               1\n",
       "comingsoon:oct24.         1\n",
       "comingsoon:oct21.         1\n",
       "comingsoon:dec23.         1\n",
       "Name: status, Length: 125, dtype: int64"
      ]
     },
     "execution_count": 1027,
     "metadata": {},
     "output_type": "execute_result"
    }
   ],
   "source": [
    "df_fs['status'].value_counts()"
   ]
  },
  {
   "attachments": {},
   "cell_type": "markdown",
   "metadata": {},
   "source": [
    "Объединим '/auction' с 'auction', а 'auction-active' с 'active-auction'"
   ]
  },
  {
   "cell_type": "code",
   "execution_count": 1028,
   "metadata": {},
   "outputs": [],
   "source": [
    "df_fs['status'] = df_fs['status'] \\\n",
    ".str.replace('/auction','auction') \\\n",
    ".str.replace('active-auction','auction-active')"
   ]
  },
  {
   "cell_type": "code",
   "execution_count": 1029,
   "metadata": {},
   "outputs": [
    {
     "data": {
      "text/plain": [
       "forsale                  161247\n",
       "active                    52772\n",
       "foreclosure                5335\n",
       "newconstruction            4691\n",
       "pending                    4231\n",
       "                          ...  \n",
       "comingsoon:dec15.             1\n",
       "comingsoon:nov23.             1\n",
       "pendingw/backupwanted         1\n",
       "pendingbackupswanted          1\n",
       "comingsoon:dec23.             1\n",
       "Name: status, Length: 124, dtype: int64"
      ]
     },
     "execution_count": 1029,
     "metadata": {},
     "output_type": "execute_result"
    }
   ],
   "source": [
    "df_fs['status'].value_counts()"
   ]
  },
  {
   "attachments": {},
   "cell_type": "markdown",
   "metadata": {},
   "source": [
    "Объединим 'undercontract' с 'uundercontract', а 'undercontractshowing' с 'undercontractshow' и 'undercontract-show'"
   ]
  },
  {
   "cell_type": "code",
   "execution_count": 1030,
   "metadata": {},
   "outputs": [],
   "source": [
    "df_fs['status'] = df_fs['status'] \\\n",
    ".str.replace('uundercontract','undercontract') \\\n",
    ".str.replace('undercontractshowing','undercontractshow') \\\n",
    ".str.replace('undercontract-show','undercontractshow') "
   ]
  },
  {
   "attachments": {},
   "cell_type": "markdown",
   "metadata": {},
   "source": [
    "Значения \"Coming soon:\". Объединим все эти значения по первым двум словам, исключив конкретную дату."
   ]
  },
  {
   "cell_type": "code",
   "execution_count": 1031,
   "metadata": {},
   "outputs": [],
   "source": [
    "df_fs['status'] = df_fs['status'].str.replace('^comingsoon.*','comingsoon', regex=True)"
   ]
  },
  {
   "attachments": {},
   "cell_type": "markdown",
   "metadata": {},
   "source": [
    "Есть значения 'recentlysold' и 'sold:...' с какой-то суммой. Объединим их."
   ]
  },
  {
   "cell_type": "code",
   "execution_count": 1032,
   "metadata": {},
   "outputs": [],
   "source": [
    "df_fs['status'] = df_fs['status'].str.replace('^sold.*','recentlysold', regex=True)"
   ]
  },
  {
   "attachments": {},
   "cell_type": "markdown",
   "metadata": {},
   "source": [
    "propertyType. Визуально сразу можно объединить singl family"
   ]
  },
  {
   "cell_type": "code",
   "execution_count": 1041,
   "metadata": {},
   "outputs": [],
   "source": [
    "df_fs['propertyType'] = df_fs['propertyType'].str.replace('single-family home', 'single family')\n",
    "df_fs['propertyType'] = df_fs['propertyType'].str.replace('single family home', 'single family')\n"
   ]
  },
  {
   "cell_type": "code",
   "execution_count": 1042,
   "metadata": {},
   "outputs": [
    {
     "data": {
      "text/plain": [
       "single family                                   165441\n",
       "condo                                            38074\n",
       "townhouse                                        15446\n",
       "condo/townhome/row home/co-op                     7435\n",
       "multi-family                                      6934\n",
       "                                                 ...  \n",
       "colonial, duplex                                     1\n",
       "condo/townhome, french, split level                  1\n",
       "other, ranch                                         1\n",
       "single detached, southwestern                        1\n",
       "single detached, early american, traditional         1\n",
       "Name: propertyType, Length: 861, dtype: int64"
      ]
     },
     "execution_count": 1042,
     "metadata": {},
     "output_type": "execute_result"
    }
   ],
   "source": [
    "df_fs['propertyType'].value_counts()"
   ]
  },
  {
   "cell_type": "code",
   "execution_count": 1043,
   "metadata": {},
   "outputs": [
    {
     "name": "stdout",
     "output_type": "stream",
     "text": [
      "<class 'pandas.core.frame.DataFrame'>\n",
      "Int64Index: 270666 entries, 0 to 377184\n",
      "Data columns (total 12 columns):\n",
      " #   Column              Non-Null Count   Dtype  \n",
      "---  ------              --------------   -----  \n",
      " 0   status              240229 non-null  object \n",
      " 1   propertyType        268734 non-null  object \n",
      " 2   baths               235276 non-null  float64\n",
      " 3   city                270659 non-null  object \n",
      " 4   sqft                268270 non-null  float64\n",
      " 5   state               270666 non-null  object \n",
      " 6   target              270666 non-null  int32  \n",
      " 7   min_dist_to_school  269062 non-null  float64\n",
      " 8   Year built          270666 non-null  float64\n",
      " 9   Heating             238899 non-null  object \n",
      " 10  Cooling             224117 non-null  object \n",
      " 11  new_beds            237212 non-null  float64\n",
      "dtypes: float64(5), int32(1), object(6)\n",
      "memory usage: 25.8+ MB\n"
     ]
    }
   ],
   "source": [
    "df_fs.info()"
   ]
  },
  {
   "cell_type": "code",
   "execution_count": 1034,
   "metadata": {},
   "outputs": [
    {
     "data": {
      "text/plain": [
       "central                                                                                         154349\n",
       "central air                                                                                      10706\n",
       "none                                                                                              7139\n",
       "has cooling                                                                                       7003\n",
       "central electric                                                                                  5937\n",
       "                                                                                                 ...  \n",
       "air conditioning, central a/c, dual                                                                  1\n",
       "heat pump, reversed cycle unit                                                                       1\n",
       "blowers, forced air, hot air                                                                         1\n",
       "g-energy star hvac, g-fresh air ventilation, gas hot air/furnace, multizone a/c, natural gas         1\n",
       "90%+ high efficiency, ductless hp-mini split, tankless water heater                                  1\n",
       "Name: Cooling, Length: 1175, dtype: int64"
      ]
     },
     "execution_count": 1034,
     "metadata": {},
     "output_type": "execute_result"
    }
   ],
   "source": [
    "df_fs['Cooling'].value_counts()"
   ]
  },
  {
   "cell_type": "code",
   "execution_count": 1035,
   "metadata": {},
   "outputs": [
    {
     "data": {
      "text/plain": [
       "forced air                                                      130885\n",
       "other                                                            28233\n",
       "heat pump                                                         8394\n",
       "gas                                                               6888\n",
       "central electric                                                  6833\n",
       "                                                                 ...  \n",
       "hot air, stove-pellet                                                1\n",
       "exhaust fans                                                         1\n",
       "central, exhaust fans, natural gas, zoned                            1\n",
       "br closet-electric - new                                             1\n",
       "baseboard, hot water, programmable thermostat, radiant floor         1\n",
       "Name: Heating, Length: 1838, dtype: int64"
      ]
     },
     "execution_count": 1035,
     "metadata": {},
     "output_type": "execute_result"
    }
   ],
   "source": [
    "df_fs['Heating'].value_counts()"
   ]
  },
  {
   "attachments": {},
   "cell_type": "markdown",
   "metadata": {},
   "source": [
    "Заполняем пропуски"
   ]
  },
  {
   "cell_type": "code",
   "execution_count": 1047,
   "metadata": {},
   "outputs": [
    {
     "data": {
      "text/plain": [
       "status                0.0\n",
       "propertyType          0.0\n",
       "baths                 0.0\n",
       "city                  0.0\n",
       "sqft                  0.0\n",
       "state                 0.0\n",
       "target                0.0\n",
       "min_dist_to_school    0.0\n",
       "Year built            0.0\n",
       "Heating               0.0\n",
       "Cooling               0.0\n",
       "new_beds              0.0\n",
       "dtype: float64"
      ]
     },
     "metadata": {},
     "output_type": "display_data"
    }
   ],
   "source": [
    "fill_data = df_fs.copy()\n",
    "values = {\n",
    "    'city': fill_data['city'].mode()[0],\n",
    "    # 'status': fill_data['status'].mode()[0],\n",
    "    'status': 'unknown',\n",
    "    'propertyType': fill_data['propertyType'].mode()[0],\n",
    "    'baths': fill_data['baths'].median(),\n",
    "    'sqft': fill_data['sqft'].median(),\n",
    "    'Heating': fill_data['Heating'].mode()[0],\n",
    "    'Cooling': fill_data['Cooling'].mode()[0],\n",
    "    'new_beds': fill_data['new_beds'].mode()[0],\n",
    "    'Year built': fill_data['Year built'].mode()[0],\n",
    "    # 'Remodeled year': fill_data['Year built'],\n",
    "    'min_dist_to_school': fill_data['min_dist_to_school'].median(),\n",
    "}\n",
    "#заполняем оставшиеся записи константами в соответствии со словарем values\n",
    "fill_data = fill_data.fillna(values)\n",
    "#выводим результирующую долю пропусков\n",
    "display(fill_data.isna().mean())"
   ]
  },
  {
   "cell_type": "code",
   "execution_count": 1048,
   "metadata": {},
   "outputs": [
    {
     "name": "stdout",
     "output_type": "stream",
     "text": [
      "<class 'pandas.core.frame.DataFrame'>\n",
      "Int64Index: 270666 entries, 0 to 377184\n",
      "Data columns (total 12 columns):\n",
      " #   Column              Non-Null Count   Dtype  \n",
      "---  ------              --------------   -----  \n",
      " 0   status              270666 non-null  object \n",
      " 1   propertyType        270666 non-null  object \n",
      " 2   baths               270666 non-null  float64\n",
      " 3   city                270666 non-null  object \n",
      " 4   sqft                270666 non-null  float64\n",
      " 5   state               270666 non-null  object \n",
      " 6   target              270666 non-null  int32  \n",
      " 7   min_dist_to_school  270666 non-null  float64\n",
      " 8   Year built          270666 non-null  float64\n",
      " 9   Heating             270666 non-null  object \n",
      " 10  Cooling             270666 non-null  object \n",
      " 11  new_beds            270666 non-null  float64\n",
      "dtypes: float64(5), int32(1), object(6)\n",
      "memory usage: 25.8+ MB\n"
     ]
    }
   ],
   "source": [
    "fill_data.info()"
   ]
  },
  {
   "attachments": {},
   "cell_type": "markdown",
   "metadata": {},
   "source": [
    "Удалим выбросы у нескольких признаков"
   ]
  },
  {
   "cell_type": "code",
   "execution_count": 1050,
   "metadata": {},
   "outputs": [
    {
     "data": {
      "text/plain": [
       "count    2.706660e+05\n",
       "mean     6.595715e+05\n",
       "std      1.810489e+06\n",
       "min      3.930000e+02\n",
       "25%      2.099000e+05\n",
       "50%      3.399000e+05\n",
       "75%      5.992908e+05\n",
       "max      1.950000e+08\n",
       "Name: target, dtype: float64"
      ]
     },
     "execution_count": 1050,
     "metadata": {},
     "output_type": "execute_result"
    }
   ],
   "source": [
    "fill_data['target'].describe()"
   ]
  },
  {
   "cell_type": "code",
   "execution_count": 1051,
   "metadata": {},
   "outputs": [
    {
     "data": {
      "text/plain": [
       "<Axes: >"
      ]
     },
     "execution_count": 1051,
     "metadata": {},
     "output_type": "execute_result"
    },
    {
     "data": {
      "image/png": "[encoded data removed]",
      "text/plain": [
       "<Figure size 640x480 with 1 Axes>"
      ]
     },
     "metadata": {},
     "output_type": "display_data"
    }
   ],
   "source": [
    "sns.boxplot(fill_data['target'])"
   ]
  },
  {
   "cell_type": "code",
   "execution_count": 1052,
   "metadata": {},
   "outputs": [],
   "source": [
    "def outliers_iqr(data, feature):\n",
    "    x = data[feature]\n",
    "    quartile_1, quartile_3 = x.quantile(0.25), x.quantile(0.75),\n",
    "    iqr = quartile_3 - quartile_1\n",
    "    lower_bound = quartile_1 - (iqr * 1.5)\n",
    "    upper_bound = quartile_3 + (iqr * 1.5)\n",
    "    outliers = data[(x<lower_bound) | (x > upper_bound)]\n",
    "    cleaned = data[(x>lower_bound) & (x < upper_bound)]\n",
    "    return outliers, cleaned\n"
   ]
  },
  {
   "cell_type": "code",
   "execution_count": 1053,
   "metadata": {},
   "outputs": [
    {
     "name": "stdout",
     "output_type": "stream",
     "text": [
      "Число выбросов по методу Тьюки: 27780\n",
      "Результирующее число записей: 242886\n"
     ]
    }
   ],
   "source": [
    "outliers, cleaned = outliers_iqr(fill_data, 'target')\n",
    "print(f'Число выбросов по методу Тьюки: {outliers.shape[0]}')\n",
    "print(f'Результирующее число записей: {cleaned.shape[0]}')"
   ]
  },
  {
   "cell_type": "code",
   "execution_count": 1054,
   "metadata": {},
   "outputs": [
    {
     "data": {
      "text/plain": [
       "<Axes: >"
      ]
     },
     "execution_count": 1054,
     "metadata": {},
     "output_type": "execute_result"
    },
    {
     "data": {
      "image/png": "[encoded data removed]",
      "text/plain": [
       "<Figure size 640x480 with 1 Axes>"
      ]
     },
     "metadata": {},
     "output_type": "display_data"
    }
   ],
   "source": [
    "sns.boxplot(cleaned['target'])"
   ]
  },
  {
   "cell_type": "code",
   "execution_count": 1055,
   "metadata": {},
   "outputs": [
    {
     "data": {
      "text/plain": [
       "<Axes: >"
      ]
     },
     "execution_count": 1055,
     "metadata": {},
     "output_type": "execute_result"
    },
    {
     "data": {
      "image/png": "[encoded data removed]",
      "text/plain": [
       "<Figure size 640x480 with 1 Axes>"
      ]
     },
     "metadata": {},
     "output_type": "display_data"
    }
   ],
   "source": [
    "sns.boxplot(cleaned['sqft'])"
   ]
  },
  {
   "cell_type": "code",
   "execution_count": 1056,
   "metadata": {},
   "outputs": [
    {
     "name": "stdout",
     "output_type": "stream",
     "text": [
      "Число выбросов по методу Тьюки: 7855\n",
      "Результирующее число записей: 235031\n"
     ]
    }
   ],
   "source": [
    "outliers, cleaned = outliers_iqr(cleaned, 'sqft')\n",
    "print(f'Число выбросов по методу Тьюки: {outliers.shape[0]}')\n",
    "print(f'Результирующее число записей: {cleaned.shape[0]}')"
   ]
  },
  {
   "cell_type": "code",
   "execution_count": 1057,
   "metadata": {},
   "outputs": [
    {
     "data": {
      "text/plain": [
       "<Axes: >"
      ]
     },
     "execution_count": 1057,
     "metadata": {},
     "output_type": "execute_result"
    },
    {
     "data": {
      "image/png": "[encoded data removed]",
      "text/plain": [
       "<Figure size 640x480 with 1 Axes>"
      ]
     },
     "metadata": {},
     "output_type": "display_data"
    }
   ],
   "source": [
    "sns.boxplot(cleaned['sqft'])"
   ]
  },
  {
   "attachments": {},
   "cell_type": "markdown",
   "metadata": {},
   "source": [
    "При этом еще можно поработать с остальными числовыми признаками, сделаю, если будет время"
   ]
  },
  {
   "attachments": {},
   "cell_type": "markdown",
   "metadata": {},
   "source": [
    "Бегло посмотрим на распрдеелние признака target"
   ]
  },
  {
   "cell_type": "code",
   "execution_count": 1103,
   "metadata": {},
   "outputs": [
    {
     "data": {
      "image/png": "[encoded data removed]",
      "text/plain": [
       "<Figure size 1500x400 with 2 Axes>"
      ]
     },
     "metadata": {},
     "output_type": "display_data"
    }
   ],
   "source": [
    "fig, axes = plt.subplots(nrows=1, ncols=2, figsize=(15, 4))\n",
    "histplot = sns.histplot(data=cleaned, x='target', ax=axes[0]);\n",
    "histplot.set_title('Распределение признака «target»');\n",
    "\n",
    "boxplot = sns.boxplot(data=cleaned, x='target', ax=axes[1]);\n",
    "boxplot.set_title('Распределение признака «target»');"
   ]
  },
  {
   "attachments": {},
   "cell_type": "markdown",
   "metadata": {},
   "source": [
    "Бегло посмотрим на распрдеелние признака sqft"
   ]
  },
  {
   "cell_type": "code",
   "execution_count": 1104,
   "metadata": {},
   "outputs": [
    {
     "data": {
      "image/png": "[encoded data removed]",
      "text/plain": [
       "<Figure size 1500x400 with 2 Axes>"
      ]
     },
     "metadata": {},
     "output_type": "display_data"
    }
   ],
   "source": [
    "fig, axes = plt.subplots(nrows=1, ncols=2, figsize=(15, 4))\n",
    "histplot = sns.histplot(data=cleaned, x='sqft', ax=axes[0]);\n",
    "histplot.set_title('Распределение признака sqft');\n",
    "\n",
    "boxplot = sns.boxplot(data=cleaned, x='sqft', ax=axes[1]);\n",
    "boxplot.set_title('Распределение признака sqft');"
   ]
  },
  {
   "attachments": {},
   "cell_type": "markdown",
   "metadata": {},
   "source": [
    "Похоже на смещенное нормальное распределение (логнормальное). В принципе от стоимости и площади этого можно ожидать."
   ]
  },
  {
   "attachments": {},
   "cell_type": "markdown",
   "metadata": {},
   "source": [
    "## Решение задачи регрессии\n",
    "\n",
    "Измерять качество наших моделей будем по метрике RMSE (Root Mean Squared Error) и R2_Score."
   ]
  },
  {
   "cell_type": "code",
   "execution_count": 1059,
   "metadata": {},
   "outputs": [],
   "source": [
    "model_data = cleaned.copy()"
   ]
  },
  {
   "cell_type": "code",
   "execution_count": 1060,
   "metadata": {},
   "outputs": [],
   "source": [
    "cat_features = model_data.select_dtypes(include=[object]).columns"
   ]
  },
  {
   "cell_type": "code",
   "execution_count": 1061,
   "metadata": {},
   "outputs": [],
   "source": [
    "encoder = CatBoostEncoder()\n",
    "encoder.fit(model_data[cat_features], model_data['target'])\n",
    "encoded_features = encoder.transform(model_data[cat_features])\n",
    "\n",
    "# Объединение преобразованных признаков с остальными данными\n",
    "encoded_data = pd.concat([model_data.drop(cat_features, axis=1), encoded_features], axis=1)"
   ]
  },
  {
   "cell_type": "code",
   "execution_count": 1062,
   "metadata": {},
   "outputs": [
    {
     "data": {
      "text/html": [
       "<div>\n",
       "<style scoped>\n",
       "    .dataframe tbody tr th:only-of-type {\n",
       "        vertical-align: middle;\n",
       "    }\n",
       "\n",
       "    .dataframe tbody tr th {\n",
       "        vertical-align: top;\n",
       "    }\n",
       "\n",
       "    .dataframe thead th {\n",
       "        text-align: right;\n",
       "    }\n",
       "</style>\n",
       "<table border=\"1\" class=\"dataframe\">\n",
       "  <thead>\n",
       "    <tr style=\"text-align: right;\">\n",
       "      <th></th>\n",
       "      <th>baths</th>\n",
       "      <th>sqft</th>\n",
       "      <th>target</th>\n",
       "      <th>min_dist_to_school</th>\n",
       "      <th>Year built</th>\n",
       "      <th>new_beds</th>\n",
       "      <th>status</th>\n",
       "      <th>propertyType</th>\n",
       "      <th>city</th>\n",
       "      <th>state</th>\n",
       "      <th>Heating</th>\n",
       "      <th>Cooling</th>\n",
       "    </tr>\n",
       "  </thead>\n",
       "  <tbody>\n",
       "    <tr>\n",
       "      <th>0</th>\n",
       "      <td>3.5</td>\n",
       "      <td>2900.0</td>\n",
       "      <td>418000</td>\n",
       "      <td>2.70</td>\n",
       "      <td>2019.0</td>\n",
       "      <td>4.0</td>\n",
       "      <td>359410.852043</td>\n",
       "      <td>349200.834554</td>\n",
       "      <td>377779.821568</td>\n",
       "      <td>327609.293060</td>\n",
       "      <td>377515.359796</td>\n",
       "      <td>361860.213321</td>\n",
       "    </tr>\n",
       "    <tr>\n",
       "      <th>1</th>\n",
       "      <td>3.0</td>\n",
       "      <td>1947.0</td>\n",
       "      <td>310000</td>\n",
       "      <td>1.01</td>\n",
       "      <td>2019.0</td>\n",
       "      <td>3.0</td>\n",
       "      <td>363571.869973</td>\n",
       "      <td>349200.834554</td>\n",
       "      <td>310829.655894</td>\n",
       "      <td>501033.855920</td>\n",
       "      <td>364368.299121</td>\n",
       "      <td>361860.213321</td>\n",
       "    </tr>\n",
       "    <tr>\n",
       "      <th>5</th>\n",
       "      <td>2.5</td>\n",
       "      <td>897.0</td>\n",
       "      <td>209000</td>\n",
       "      <td>0.62</td>\n",
       "      <td>1920.0</td>\n",
       "      <td>2.0</td>\n",
       "      <td>363571.869973</td>\n",
       "      <td>356040.127997</td>\n",
       "      <td>296507.489991</td>\n",
       "      <td>279088.087912</td>\n",
       "      <td>364368.299121</td>\n",
       "      <td>361860.213321</td>\n",
       "    </tr>\n",
       "    <tr>\n",
       "      <th>6</th>\n",
       "      <td>2.5</td>\n",
       "      <td>1507.0</td>\n",
       "      <td>181500</td>\n",
       "      <td>0.80</td>\n",
       "      <td>2006.0</td>\n",
       "      <td>3.0</td>\n",
       "      <td>359410.852043</td>\n",
       "      <td>324532.657671</td>\n",
       "      <td>239751.479200</td>\n",
       "      <td>348186.383903</td>\n",
       "      <td>293902.310280</td>\n",
       "      <td>319633.011568</td>\n",
       "    </tr>\n",
       "    <tr>\n",
       "      <th>8</th>\n",
       "      <td>2.0</td>\n",
       "      <td>3588.0</td>\n",
       "      <td>244900</td>\n",
       "      <td>5.60</td>\n",
       "      <td>1970.0</td>\n",
       "      <td>3.0</td>\n",
       "      <td>359410.852043</td>\n",
       "      <td>349200.834554</td>\n",
       "      <td>176870.732475</td>\n",
       "      <td>182490.987447</td>\n",
       "      <td>364368.299121</td>\n",
       "      <td>361860.213321</td>\n",
       "    </tr>\n",
       "    <tr>\n",
       "      <th>...</th>\n",
       "      <td>...</td>\n",
       "      <td>...</td>\n",
       "      <td>...</td>\n",
       "      <td>...</td>\n",
       "      <td>...</td>\n",
       "      <td>...</td>\n",
       "      <td>...</td>\n",
       "      <td>...</td>\n",
       "      <td>...</td>\n",
       "      <td>...</td>\n",
       "      <td>...</td>\n",
       "      <td>...</td>\n",
       "    </tr>\n",
       "    <tr>\n",
       "      <th>377176</th>\n",
       "      <td>2.0</td>\n",
       "      <td>1829.0</td>\n",
       "      <td>171306</td>\n",
       "      <td>1.10</td>\n",
       "      <td>1962.0</td>\n",
       "      <td>3.0</td>\n",
       "      <td>360473.408600</td>\n",
       "      <td>349200.834554</td>\n",
       "      <td>309897.712428</td>\n",
       "      <td>348186.383903</td>\n",
       "      <td>364368.299121</td>\n",
       "      <td>361860.213321</td>\n",
       "    </tr>\n",
       "    <tr>\n",
       "      <th>377179</th>\n",
       "      <td>3.0</td>\n",
       "      <td>1417.0</td>\n",
       "      <td>799000</td>\n",
       "      <td>0.10</td>\n",
       "      <td>2010.0</td>\n",
       "      <td>2.0</td>\n",
       "      <td>363571.869973</td>\n",
       "      <td>385828.521799</td>\n",
       "      <td>582182.327280</td>\n",
       "      <td>582182.327280</td>\n",
       "      <td>364368.299121</td>\n",
       "      <td>361860.213321</td>\n",
       "    </tr>\n",
       "    <tr>\n",
       "      <th>377181</th>\n",
       "      <td>3.0</td>\n",
       "      <td>2000.0</td>\n",
       "      <td>674999</td>\n",
       "      <td>0.40</td>\n",
       "      <td>1924.0</td>\n",
       "      <td>3.0</td>\n",
       "      <td>363571.869973</td>\n",
       "      <td>385828.521799</td>\n",
       "      <td>346794.912680</td>\n",
       "      <td>321509.863857</td>\n",
       "      <td>457986.105430</td>\n",
       "      <td>361860.213321</td>\n",
       "    </tr>\n",
       "    <tr>\n",
       "      <th>377182</th>\n",
       "      <td>3.0</td>\n",
       "      <td>1152.0</td>\n",
       "      <td>528000</td>\n",
       "      <td>0.48</td>\n",
       "      <td>1950.0</td>\n",
       "      <td>3.0</td>\n",
       "      <td>363571.869973</td>\n",
       "      <td>349200.834554</td>\n",
       "      <td>672753.461873</td>\n",
       "      <td>549139.995114</td>\n",
       "      <td>326021.697400</td>\n",
       "      <td>361860.213321</td>\n",
       "    </tr>\n",
       "    <tr>\n",
       "      <th>377184</th>\n",
       "      <td>2.0</td>\n",
       "      <td>1462.0</td>\n",
       "      <td>204900</td>\n",
       "      <td>0.30</td>\n",
       "      <td>2019.0</td>\n",
       "      <td>3.0</td>\n",
       "      <td>360473.408600</td>\n",
       "      <td>349200.834554</td>\n",
       "      <td>270952.812766</td>\n",
       "      <td>320991.450673</td>\n",
       "      <td>338348.887833</td>\n",
       "      <td>361860.213321</td>\n",
       "    </tr>\n",
       "  </tbody>\n",
       "</table>\n",
       "<p>235031 rows × 12 columns</p>\n",
       "</div>"
      ],
      "text/plain": [
       "        baths    sqft  target  min_dist_to_school  Year built  new_beds  \\\n",
       "0         3.5  2900.0  418000                2.70      2019.0       4.0   \n",
       "1         3.0  1947.0  310000                1.01      2019.0       3.0   \n",
       "5         2.5   897.0  209000                0.62      1920.0       2.0   \n",
       "6         2.5  1507.0  181500                0.80      2006.0       3.0   \n",
       "8         2.0  3588.0  244900                5.60      1970.0       3.0   \n",
       "...       ...     ...     ...                 ...         ...       ...   \n",
       "377176    2.0  1829.0  171306                1.10      1962.0       3.0   \n",
       "377179    3.0  1417.0  799000                0.10      2010.0       2.0   \n",
       "377181    3.0  2000.0  674999                0.40      1924.0       3.0   \n",
       "377182    3.0  1152.0  528000                0.48      1950.0       3.0   \n",
       "377184    2.0  1462.0  204900                0.30      2019.0       3.0   \n",
       "\n",
       "               status   propertyType           city          state  \\\n",
       "0       359410.852043  349200.834554  377779.821568  327609.293060   \n",
       "1       363571.869973  349200.834554  310829.655894  501033.855920   \n",
       "5       363571.869973  356040.127997  296507.489991  279088.087912   \n",
       "6       359410.852043  324532.657671  239751.479200  348186.383903   \n",
       "8       359410.852043  349200.834554  176870.732475  182490.987447   \n",
       "...               ...            ...            ...            ...   \n",
       "377176  360473.408600  349200.834554  309897.712428  348186.383903   \n",
       "377179  363571.869973  385828.521799  582182.327280  582182.327280   \n",
       "377181  363571.869973  385828.521799  346794.912680  321509.863857   \n",
       "377182  363571.869973  349200.834554  672753.461873  549139.995114   \n",
       "377184  360473.408600  349200.834554  270952.812766  320991.450673   \n",
       "\n",
       "              Heating        Cooling  \n",
       "0       377515.359796  361860.213321  \n",
       "1       364368.299121  361860.213321  \n",
       "5       364368.299121  361860.213321  \n",
       "6       293902.310280  319633.011568  \n",
       "8       364368.299121  361860.213321  \n",
       "...               ...            ...  \n",
       "377176  364368.299121  361860.213321  \n",
       "377179  364368.299121  361860.213321  \n",
       "377181  457986.105430  361860.213321  \n",
       "377182  326021.697400  361860.213321  \n",
       "377184  338348.887833  361860.213321  \n",
       "\n",
       "[235031 rows x 12 columns]"
      ]
     },
     "execution_count": 1062,
     "metadata": {},
     "output_type": "execute_result"
    }
   ],
   "source": [
    "encoded_data"
   ]
  },
  {
   "cell_type": "code",
   "execution_count": 1063,
   "metadata": {},
   "outputs": [],
   "source": [
    "X = encoded_data.drop('target', axis=1)\n",
    "y = encoded_data['target']"
   ]
  },
  {
   "cell_type": "code",
   "execution_count": 1064,
   "metadata": {},
   "outputs": [],
   "source": [
    "X_train, X_test, y_train, y_test = model_selection.train_test_split(\n",
    "    X, y, \n",
    "    test_size=0.3, \n",
    "    random_state=42\n",
    ")"
   ]
  },
  {
   "cell_type": "code",
   "execution_count": 1065,
   "metadata": {},
   "outputs": [
    {
     "name": "stdout",
     "output_type": "stream",
     "text": [
      "Train shape: (164521, 77)\n",
      "Test shape: (70510, 77)\n"
     ]
    }
   ],
   "source": [
    "#Создаем объект для min-max нормализации\n",
    "scaler = preprocessing.MinMaxScaler()\n",
    "#Вычисляем параметры для нормализации - min и max для каждого столбца\n",
    "scaler.fit(X_train)\n",
    "#Производим преобразование для каждой из выборок\n",
    "X_train_scaled = scaler.transform(X_train)\n",
    "X_test_scaled = scaler.transform(X_test)\n",
    "\n",
    "X_scaled = scaler.transform(X)\n",
    "\n",
    "#Создаем объект для генерации полиномиальных признаков степени 2\n",
    "poly = preprocessing.PolynomialFeatures(degree=2, include_bias=False)\n",
    "#Вычисляем параметры генерации - результирующее количество признак\n",
    "poly.fit(X_train_scaled)\n",
    "#Производим преобразование для каждой из выборок\n",
    "X_train_scaled_poly = poly.transform(X_train_scaled)\n",
    "X_test_scaled_poly = poly.transform(X_test_scaled)\n",
    "\n",
    "print('Train shape: {}'.format(X_train_scaled_poly.shape))\n",
    "print('Test shape: {}'.format(X_test_scaled_poly.shape))"
   ]
  },
  {
   "attachments": {},
   "cell_type": "markdown",
   "metadata": {},
   "source": [
    "**Первая модель**, самая простая"
   ]
  },
  {
   "cell_type": "code",
   "execution_count": 1066,
   "metadata": {},
   "outputs": [],
   "source": [
    "# ваш код здесь\n",
    "lr = linear_model.LinearRegression()\n",
    "lr.fit(X_train_scaled, y_train)\n",
    "\n",
    "y_train_pred = lr.predict(X_train_scaled)\n",
    "y_test_pred = lr.predict(X_test_scaled)"
   ]
  },
  {
   "cell_type": "code",
   "execution_count": 1067,
   "metadata": {},
   "outputs": [
    {
     "name": "stdout",
     "output_type": "stream",
     "text": [
      "MSE\n",
      "148599.1299890113\n",
      "148636.82480621664\n",
      "R2\n",
      "0.5866063980955377\n",
      "0.5896196739903747\n"
     ]
    }
   ],
   "source": [
    "print('MSE')\n",
    "print(np.sqrt(metrics.mean_squared_error(y_train, y_train_pred)))\n",
    "print(np.sqrt(metrics.mean_squared_error(y_test, y_test_pred)))\n",
    "\n",
    "print('R2')\n",
    "print(metrics.r2_score(y_train, y_train_pred))\n",
    "print(metrics.r2_score(y_test, y_test_pred))"
   ]
  },
  {
   "attachments": {},
   "cell_type": "markdown",
   "metadata": {},
   "source": [
    "**Вторая модель**, полимиальные признакм"
   ]
  },
  {
   "cell_type": "code",
   "execution_count": 1068,
   "metadata": {},
   "outputs": [],
   "source": [
    "# ваш код здесь\n",
    "lr_poly = linear_model.LinearRegression()\n",
    "lr_poly.fit(X_train_scaled_poly, y_train)\n",
    "\n",
    "y_train_pred_poly = lr_poly.predict(X_train_scaled_poly)\n",
    "y_test_pred_poly = lr_poly.predict(X_test_scaled_poly)"
   ]
  },
  {
   "cell_type": "code",
   "execution_count": 1069,
   "metadata": {},
   "outputs": [
    {
     "name": "stdout",
     "output_type": "stream",
     "text": [
      "MSE\n",
      "141580.49268260857\n",
      "148111.10494309312\n",
      "R2\n",
      "0.6247350042579691\n",
      "0.5925175231625563\n"
     ]
    }
   ],
   "source": [
    "print('MSE')\n",
    "print(np.sqrt(metrics.mean_squared_error(y_train, y_train_pred_poly)))\n",
    "print(np.sqrt(metrics.mean_squared_error(y_test, y_test_pred_poly)))\n",
    "print('R2')\n",
    "print(metrics.r2_score(y_train, y_train_pred_poly))\n",
    "print(metrics.r2_score(y_test, y_test_pred_poly))"
   ]
  },
  {
   "attachments": {},
   "cell_type": "markdown",
   "metadata": {},
   "source": [
    "**Модель 3**. Кросс-валидация"
   ]
  },
  {
   "cell_type": "code",
   "execution_count": 1070,
   "metadata": {},
   "outputs": [
    {
     "name": "stdout",
     "output_type": "stream",
     "text": [
      "R2 на тренировочных фолдах: 0.588\n",
      "R2 на валидационных фолдах: 0.587\n"
     ]
    }
   ],
   "source": [
    "# ваш код здесь\n",
    "lr2 = linear_model.LinearRegression()\n",
    "metr = ['neg_mean_absolute_error', 'neg_mean_absolute_percentage_error', 'r2']\n",
    "cv_results = model_selection.cross_validate(lr2, X, y, scoring=metr[2], cv=5, return_train_score=True)\n",
    "\n",
    "print('R2 на тренировочных фолдах: {:.3f}'.format(cv_results['train_score'].mean()))\n",
    "print('R2 на валидационных фолдах: {:.3f}'.format(cv_results['test_score'].mean()))"
   ]
  },
  {
   "attachments": {},
   "cell_type": "markdown",
   "metadata": {},
   "source": [
    "**Модель 4**. Деревья на поли признаках\n"
   ]
  },
  {
   "cell_type": "code",
   "execution_count": 1071,
   "metadata": {},
   "outputs": [],
   "source": [
    "dtr_poly = tree.DecisionTreeRegressor(max_depth=8, random_state=42)\n",
    "dtr_poly.fit(X_train_scaled_poly, y_train)\n",
    "\n",
    "y_train_pred_poly2 = dtr_poly.predict(X_train_scaled_poly)\n",
    "y_test_pred_poly2 = dtr_poly.predict(X_test_scaled_poly)"
   ]
  },
  {
   "cell_type": "code",
   "execution_count": 1072,
   "metadata": {},
   "outputs": [
    {
     "name": "stdout",
     "output_type": "stream",
     "text": [
      "MSE\n",
      "134519.06493767732\n",
      "137376.10207429095\n",
      "R2\n",
      "0.6612347170984061\n",
      "0.6494450753610508\n"
     ]
    }
   ],
   "source": [
    "print('MSE')\n",
    "print(np.sqrt(metrics.mean_squared_error(y_train, y_train_pred_poly2)))\n",
    "print(np.sqrt(metrics.mean_squared_error(y_test, y_test_pred_poly2)))\n",
    "print('R2')\n",
    "print(metrics.r2_score(y_train, y_train_pred_poly2))\n",
    "print(metrics.r2_score(y_test, y_test_pred_poly2))"
   ]
  },
  {
   "attachments": {},
   "cell_type": "markdown",
   "metadata": {},
   "source": [
    "Моднль 5. Базовые деревья"
   ]
  },
  {
   "cell_type": "code",
   "execution_count": 1073,
   "metadata": {},
   "outputs": [],
   "source": [
    "dtr = tree.DecisionTreeRegressor(max_depth=8, random_state=42)\n",
    "dtr.fit(X_train_scaled, y_train)\n",
    "\n",
    "y_train_pred2 = dtr.predict(X_train_scaled)\n",
    "y_test_pred2 = dtr.predict(X_test_scaled)"
   ]
  },
  {
   "cell_type": "code",
   "execution_count": 1074,
   "metadata": {},
   "outputs": [
    {
     "name": "stdout",
     "output_type": "stream",
     "text": [
      "MSE\n",
      "136982.70028056492\n",
      "139557.77094459755\n",
      "R2\n",
      "0.648712526765342\n",
      "0.6382223429524545\n"
     ]
    }
   ],
   "source": [
    "print('MSE')\n",
    "print(np.sqrt(metrics.mean_squared_error(y_train, y_train_pred2)))\n",
    "print(np.sqrt(metrics.mean_squared_error(y_test, y_test_pred2)))\n",
    "print('R2')\n",
    "print(metrics.r2_score(y_train, y_train_pred2))\n",
    "print(metrics.r2_score(y_test, y_test_pred2))"
   ]
  },
  {
   "attachments": {},
   "cell_type": "markdown",
   "metadata": {},
   "source": [
    "**Модель 6**. Ансамбли, деревья, поли признаки"
   ]
  },
  {
   "cell_type": "code",
   "execution_count": 1075,
   "metadata": {},
   "outputs": [
    {
     "name": "stderr",
     "output_type": "stream",
     "text": [
      "[Parallel(n_jobs=-1)]: Using backend ThreadingBackend with 8 concurrent workers.\n",
      "[Parallel(n_jobs=-1)]: Done  34 tasks      | elapsed:  1.1min\n",
      "[Parallel(n_jobs=-1)]: Done 184 tasks      | elapsed:  5.6min\n",
      "[Parallel(n_jobs=-1)]: Done 200 out of 200 | elapsed:  6.1min finished\n",
      "[Parallel(n_jobs=8)]: Using backend ThreadingBackend with 8 concurrent workers.\n",
      "[Parallel(n_jobs=8)]: Done  34 tasks      | elapsed:    0.1s\n",
      "[Parallel(n_jobs=8)]: Done 184 tasks      | elapsed:    0.9s\n",
      "[Parallel(n_jobs=8)]: Done 200 out of 200 | elapsed:    1.0s finished\n",
      "[Parallel(n_jobs=8)]: Using backend ThreadingBackend with 8 concurrent workers.\n",
      "[Parallel(n_jobs=8)]: Done  34 tasks      | elapsed:    0.0s\n",
      "[Parallel(n_jobs=8)]: Done 184 tasks      | elapsed:    0.4s\n",
      "[Parallel(n_jobs=8)]: Done 200 out of 200 | elapsed:    0.4s finished\n"
     ]
    }
   ],
   "source": [
    "rfr_poly = ensemble.RandomForestRegressor(\n",
    "    n_estimators=200,\n",
    "    max_depth=12,\n",
    "    min_samples_split = 20,\n",
    "    random_state=42,\n",
    "    verbose=True,\n",
    "    n_jobs=-1)\n",
    "rfr_poly.fit(X_train_scaled_poly, y_train)\n",
    "\n",
    "y_train_pred_poly3 = rfr_poly.predict(X_train_scaled_poly)\n",
    "y_test_pred_poly3 = rfr_poly.predict(X_test_scaled_poly)"
   ]
  },
  {
   "cell_type": "code",
   "execution_count": 1076,
   "metadata": {},
   "outputs": [
    {
     "name": "stdout",
     "output_type": "stream",
     "text": [
      "MSE\n",
      "110113.64242463243\n",
      "121941.77292231696\n",
      "R2\n",
      "0.7730064719773098\n",
      "0.7237904416274463\n"
     ]
    }
   ],
   "source": [
    "print('MSE')\n",
    "print(np.sqrt(metrics.mean_squared_error(y_train, y_train_pred_poly3)))\n",
    "print(np.sqrt(metrics.mean_squared_error(y_test, y_test_pred_poly3)))\n",
    "print('R2')\n",
    "print(metrics.r2_score(y_train, y_train_pred_poly3))\n",
    "print(metrics.r2_score(y_test, y_test_pred_poly3))"
   ]
  },
  {
   "attachments": {},
   "cell_type": "markdown",
   "metadata": {},
   "source": [
    "**Модель 7**. Ансамбли, деревья, обычные признаки"
   ]
  },
  {
   "cell_type": "code",
   "execution_count": 1077,
   "metadata": {},
   "outputs": [
    {
     "name": "stderr",
     "output_type": "stream",
     "text": [
      "[Parallel(n_jobs=-1)]: Using backend ThreadingBackend with 8 concurrent workers.\n",
      "[Parallel(n_jobs=-1)]: Done  34 tasks      | elapsed:    5.9s\n",
      "[Parallel(n_jobs=-1)]: Done 184 tasks      | elapsed:   27.7s\n",
      "[Parallel(n_jobs=-1)]: Done 200 out of 200 | elapsed:   30.1s finished\n",
      "[Parallel(n_jobs=8)]: Using backend ThreadingBackend with 8 concurrent workers.\n",
      "[Parallel(n_jobs=8)]: Done  34 tasks      | elapsed:    0.1s\n",
      "[Parallel(n_jobs=8)]: Done 184 tasks      | elapsed:    0.8s\n",
      "[Parallel(n_jobs=8)]: Done 200 out of 200 | elapsed:    0.8s finished\n",
      "[Parallel(n_jobs=8)]: Using backend ThreadingBackend with 8 concurrent workers.\n",
      "[Parallel(n_jobs=8)]: Done  34 tasks      | elapsed:    0.0s\n",
      "[Parallel(n_jobs=8)]: Done 184 tasks      | elapsed:    0.3s\n",
      "[Parallel(n_jobs=8)]: Done 200 out of 200 | elapsed:    0.3s finished\n"
     ]
    }
   ],
   "source": [
    "rfr = ensemble.RandomForestRegressor(\n",
    "    n_estimators=200,\n",
    "    max_depth=12,\n",
    "    min_samples_split = 20,\n",
    "    random_state=42,\n",
    "    verbose=True,\n",
    "    n_jobs=-1)\n",
    "rfr_poly.fit(X_train_scaled, y_train)\n",
    "\n",
    "y_train_pred3 = rfr_poly.predict(X_train_scaled)\n",
    "y_test_pred3 = rfr_poly.predict(X_test_scaled)"
   ]
  },
  {
   "cell_type": "code",
   "execution_count": 1078,
   "metadata": {},
   "outputs": [
    {
     "name": "stdout",
     "output_type": "stream",
     "text": [
      "MSE\n",
      "112271.71827653186\n",
      "121725.83384683378\n",
      "R2\n",
      "0.7640217608724456\n",
      "0.724767820009623\n"
     ]
    }
   ],
   "source": [
    "print('MSE')\n",
    "print(np.sqrt(metrics.mean_squared_error(y_train, y_train_pred3)))\n",
    "print(np.sqrt(metrics.mean_squared_error(y_test, y_test_pred3)))\n",
    "print('R2')\n",
    "print(metrics.r2_score(y_train, y_train_pred3))\n",
    "print(metrics.r2_score(y_test, y_test_pred3))"
   ]
  },
  {
   "attachments": {},
   "cell_type": "markdown",
   "metadata": {},
   "source": [
    "**Модель 8**. Градиентный бустинг"
   ]
  },
  {
   "cell_type": "code",
   "execution_count": 1079,
   "metadata": {},
   "outputs": [],
   "source": [
    "gbr = ensemble.GradientBoostingRegressor(learning_rate = 0.5,\n",
    "                                         max_depth=6,\n",
    "                                         n_estimators=100, #количество деревьев по-умолчанию\n",
    "                                         min_samples_split = 30,\n",
    "                                         random_state=42 #генератор случайных чисел\n",
    "                                         )\n",
    "gbr.fit(X_train_scaled, y_train)\n",
    "\n",
    "y_train_predict_gbr = gbr.predict(X_train_scaled)\n",
    "y_test_predict_gbr = gbr.predict(X_test_scaled)"
   ]
  },
  {
   "cell_type": "code",
   "execution_count": 1080,
   "metadata": {},
   "outputs": [
    {
     "name": "stdout",
     "output_type": "stream",
     "text": [
      "MSE\n",
      "107416.71389714726\n",
      "117457.97900424422\n",
      "R2\n",
      "0.78398946039685\n",
      "0.7437294260064802\n"
     ]
    }
   ],
   "source": [
    "print('MSE')\n",
    "print(np.sqrt(metrics.mean_squared_error(y_train, y_train_predict_gbr)))\n",
    "print(np.sqrt(metrics.mean_squared_error(y_test, y_test_predict_gbr)))\n",
    "print('R2')\n",
    "print(metrics.r2_score(y_train, y_train_predict_gbr))\n",
    "print(metrics.r2_score(y_test, y_test_predict_gbr))"
   ]
  },
  {
   "attachments": {},
   "cell_type": "markdown",
   "metadata": {},
   "source": [
    "Модель показала лучший прогноз, хотя на мой взгляд либо намного больше времени, либо нужно иметь практику  и опыт работы в данном направлении, либо дата сет оочень грязный. В первую очередь это очистка дата сета"
   ]
  },
  {
   "attachments": {},
   "cell_type": "markdown",
   "metadata": {},
   "source": [
    "Посмотрим на важность факторов для наилучшей ансамблевой модели."
   ]
  },
  {
   "cell_type": "code",
   "execution_count": 1082,
   "metadata": {},
   "outputs": [
    {
     "data": {
      "text/plain": [
       "<Axes: >"
      ]
     },
     "execution_count": 1082,
     "metadata": {},
     "output_type": "execute_result"
    },
    {
     "data": {
      "image/png": "[encoded data removed]",
      "text/plain": [
       "<Figure size 1200x600 with 1 Axes>"
      ]
     },
     "metadata": {},
     "output_type": "display_data"
    }
   ],
   "source": [
    "# есть возможность вывести самые важные признаки для модели через атрибут feature_importances_\n",
    "plt.rcParams['figure.figsize'] = (12,6)\n",
    "feat_importances = pd.Series(gbr.feature_importances_, index=X_train.columns)\n",
    "feat_importances.nlargest(10).plot(kind='barh')"
   ]
  },
  {
   "attachments": {},
   "cell_type": "markdown",
   "metadata": {},
   "source": [
    "Ожтдаемо, регион - city и площадь - самые значимые факторы"
   ]
  },
  {
   "attachments": {},
   "cell_type": "markdown",
   "metadata": {},
   "source": [
    "## Подготовка модели к продакшену"
   ]
  },
  {
   "cell_type": "code",
   "execution_count": 1083,
   "metadata": {},
   "outputs": [
    {
     "data": {
      "text/html": [
       "<div>\n",
       "<style scoped>\n",
       "    .dataframe tbody tr th:only-of-type {\n",
       "        vertical-align: middle;\n",
       "    }\n",
       "\n",
       "    .dataframe tbody tr th {\n",
       "        vertical-align: top;\n",
       "    }\n",
       "\n",
       "    .dataframe thead th {\n",
       "        text-align: right;\n",
       "    }\n",
       "</style>\n",
       "<table border=\"1\" class=\"dataframe\">\n",
       "  <thead>\n",
       "    <tr style=\"text-align: right;\">\n",
       "      <th></th>\n",
       "      <th>status</th>\n",
       "      <th>propertyType</th>\n",
       "      <th>baths</th>\n",
       "      <th>city</th>\n",
       "      <th>sqft</th>\n",
       "      <th>state</th>\n",
       "      <th>target</th>\n",
       "      <th>min_dist_to_school</th>\n",
       "      <th>Year built</th>\n",
       "      <th>Heating</th>\n",
       "      <th>Cooling</th>\n",
       "      <th>new_beds</th>\n",
       "    </tr>\n",
       "  </thead>\n",
       "  <tbody>\n",
       "    <tr>\n",
       "      <th>0</th>\n",
       "      <td>active</td>\n",
       "      <td>single family</td>\n",
       "      <td>3.5</td>\n",
       "      <td>Southern Pines</td>\n",
       "      <td>2900.0</td>\n",
       "      <td>NC</td>\n",
       "      <td>418000</td>\n",
       "      <td>2.70</td>\n",
       "      <td>2019.0</td>\n",
       "      <td>central a/c, heat pump</td>\n",
       "      <td>central</td>\n",
       "      <td>4.0</td>\n",
       "    </tr>\n",
       "    <tr>\n",
       "      <th>1</th>\n",
       "      <td>forsale</td>\n",
       "      <td>single family</td>\n",
       "      <td>3.0</td>\n",
       "      <td>Spokane Valley</td>\n",
       "      <td>1947.0</td>\n",
       "      <td>WA</td>\n",
       "      <td>310000</td>\n",
       "      <td>1.01</td>\n",
       "      <td>2019.0</td>\n",
       "      <td>forced air</td>\n",
       "      <td>central</td>\n",
       "      <td>3.0</td>\n",
       "    </tr>\n",
       "    <tr>\n",
       "      <th>5</th>\n",
       "      <td>forsale</td>\n",
       "      <td>townhouse</td>\n",
       "      <td>2.5</td>\n",
       "      <td>Philadelphia</td>\n",
       "      <td>897.0</td>\n",
       "      <td>PA</td>\n",
       "      <td>209000</td>\n",
       "      <td>0.62</td>\n",
       "      <td>1920.0</td>\n",
       "      <td>forced air</td>\n",
       "      <td>central</td>\n",
       "      <td>2.0</td>\n",
       "    </tr>\n",
       "    <tr>\n",
       "      <th>6</th>\n",
       "      <td>active</td>\n",
       "      <td>florida</td>\n",
       "      <td>2.5</td>\n",
       "      <td>POINCIANA</td>\n",
       "      <td>1507.0</td>\n",
       "      <td>FL</td>\n",
       "      <td>181500</td>\n",
       "      <td>0.80</td>\n",
       "      <td>2006.0</td>\n",
       "      <td>electric, heat pump</td>\n",
       "      <td>central air</td>\n",
       "      <td>3.0</td>\n",
       "    </tr>\n",
       "    <tr>\n",
       "      <th>8</th>\n",
       "      <td>active</td>\n",
       "      <td>single family</td>\n",
       "      <td>2.0</td>\n",
       "      <td>Mason City</td>\n",
       "      <td>3588.0</td>\n",
       "      <td>IA</td>\n",
       "      <td>244900</td>\n",
       "      <td>5.60</td>\n",
       "      <td>1970.0</td>\n",
       "      <td>forced air</td>\n",
       "      <td>central</td>\n",
       "      <td>3.0</td>\n",
       "    </tr>\n",
       "    <tr>\n",
       "      <th>...</th>\n",
       "      <td>...</td>\n",
       "      <td>...</td>\n",
       "      <td>...</td>\n",
       "      <td>...</td>\n",
       "      <td>...</td>\n",
       "      <td>...</td>\n",
       "      <td>...</td>\n",
       "      <td>...</td>\n",
       "      <td>...</td>\n",
       "      <td>...</td>\n",
       "      <td>...</td>\n",
       "      <td>...</td>\n",
       "    </tr>\n",
       "    <tr>\n",
       "      <th>377176</th>\n",
       "      <td>unknown</td>\n",
       "      <td>single family</td>\n",
       "      <td>2.0</td>\n",
       "      <td>Orlando</td>\n",
       "      <td>1829.0</td>\n",
       "      <td>FL</td>\n",
       "      <td>171306</td>\n",
       "      <td>1.10</td>\n",
       "      <td>1962.0</td>\n",
       "      <td>forced air</td>\n",
       "      <td>central</td>\n",
       "      <td>3.0</td>\n",
       "    </tr>\n",
       "    <tr>\n",
       "      <th>377179</th>\n",
       "      <td>forsale</td>\n",
       "      <td>condo</td>\n",
       "      <td>3.0</td>\n",
       "      <td>Washington</td>\n",
       "      <td>1417.0</td>\n",
       "      <td>DC</td>\n",
       "      <td>799000</td>\n",
       "      <td>0.10</td>\n",
       "      <td>2010.0</td>\n",
       "      <td>forced air</td>\n",
       "      <td>central</td>\n",
       "      <td>2.0</td>\n",
       "    </tr>\n",
       "    <tr>\n",
       "      <th>377181</th>\n",
       "      <td>forsale</td>\n",
       "      <td>condo</td>\n",
       "      <td>3.0</td>\n",
       "      <td>Chicago</td>\n",
       "      <td>2000.0</td>\n",
       "      <td>IL</td>\n",
       "      <td>674999</td>\n",
       "      <td>0.40</td>\n",
       "      <td>1924.0</td>\n",
       "      <td>radiant</td>\n",
       "      <td>central</td>\n",
       "      <td>3.0</td>\n",
       "    </tr>\n",
       "    <tr>\n",
       "      <th>377182</th>\n",
       "      <td>forsale</td>\n",
       "      <td>single family</td>\n",
       "      <td>3.0</td>\n",
       "      <td>Jamaica</td>\n",
       "      <td>1152.0</td>\n",
       "      <td>NY</td>\n",
       "      <td>528000</td>\n",
       "      <td>0.48</td>\n",
       "      <td>1950.0</td>\n",
       "      <td>other</td>\n",
       "      <td>central</td>\n",
       "      <td>3.0</td>\n",
       "    </tr>\n",
       "    <tr>\n",
       "      <th>377184</th>\n",
       "      <td>unknown</td>\n",
       "      <td>single family</td>\n",
       "      <td>2.0</td>\n",
       "      <td>San Antonio</td>\n",
       "      <td>1462.0</td>\n",
       "      <td>TX</td>\n",
       "      <td>204900</td>\n",
       "      <td>0.30</td>\n",
       "      <td>2019.0</td>\n",
       "      <td>electric</td>\n",
       "      <td>central</td>\n",
       "      <td>3.0</td>\n",
       "    </tr>\n",
       "  </tbody>\n",
       "</table>\n",
       "<p>235031 rows × 12 columns</p>\n",
       "</div>"
      ],
      "text/plain": [
       "         status   propertyType  baths            city    sqft state  target  \\\n",
       "0        active  single family    3.5  Southern Pines  2900.0    NC  418000   \n",
       "1       forsale  single family    3.0  Spokane Valley  1947.0    WA  310000   \n",
       "5       forsale      townhouse    2.5    Philadelphia   897.0    PA  209000   \n",
       "6        active        florida    2.5       POINCIANA  1507.0    FL  181500   \n",
       "8        active  single family    2.0      Mason City  3588.0    IA  244900   \n",
       "...         ...            ...    ...             ...     ...   ...     ...   \n",
       "377176  unknown  single family    2.0         Orlando  1829.0    FL  171306   \n",
       "377179  forsale          condo    3.0      Washington  1417.0    DC  799000   \n",
       "377181  forsale          condo    3.0         Chicago  2000.0    IL  674999   \n",
       "377182  forsale  single family    3.0         Jamaica  1152.0    NY  528000   \n",
       "377184  unknown  single family    2.0     San Antonio  1462.0    TX  204900   \n",
       "\n",
       "        min_dist_to_school  Year built                 Heating      Cooling  \\\n",
       "0                     2.70      2019.0  central a/c, heat pump      central   \n",
       "1                     1.01      2019.0              forced air      central   \n",
       "5                     0.62      1920.0              forced air      central   \n",
       "6                     0.80      2006.0     electric, heat pump  central air   \n",
       "8                     5.60      1970.0              forced air      central   \n",
       "...                    ...         ...                     ...          ...   \n",
       "377176                1.10      1962.0              forced air      central   \n",
       "377179                0.10      2010.0              forced air      central   \n",
       "377181                0.40      1924.0                 radiant      central   \n",
       "377182                0.48      1950.0                   other      central   \n",
       "377184                0.30      2019.0                electric      central   \n",
       "\n",
       "        new_beds  \n",
       "0            4.0  \n",
       "1            3.0  \n",
       "5            2.0  \n",
       "6            3.0  \n",
       "8            3.0  \n",
       "...          ...  \n",
       "377176       3.0  \n",
       "377179       2.0  \n",
       "377181       3.0  \n",
       "377182       3.0  \n",
       "377184       3.0  \n",
       "\n",
       "[235031 rows x 12 columns]"
      ]
     },
     "execution_count": 1083,
     "metadata": {},
     "output_type": "execute_result"
    }
   ],
   "source": [
    "cleaned"
   ]
  },
  {
   "cell_type": "code",
   "execution_count": 1092,
   "metadata": {},
   "outputs": [],
   "source": [
    "cols = cleaned.drop(['target'],axis=1).columns"
   ]
  },
  {
   "cell_type": "code",
   "execution_count": 1086,
   "metadata": {},
   "outputs": [],
   "source": [
    "# Создаём пайплайн, который включает все наши шаги по подготовке данных и обучению модели\n",
    "pipe = Pipeline([  \n",
    "  ('CatBoostEncoder', encoder),\n",
    "  ('MinMaxScaler', scaler),\n",
    "  ('GradientBoostingRegressor', gbr)\n",
    "  ])"
   ]
  },
  {
   "cell_type": "code",
   "execution_count": 1087,
   "metadata": {},
   "outputs": [],
   "source": [
    "# Входными данными для пайплайна будут\n",
    "X_p = cleaned.drop(['target'], axis=1)\n",
    "y_p = cleaned['target']"
   ]
  },
  {
   "cell_type": "code",
   "execution_count": 1088,
   "metadata": {},
   "outputs": [
    {
     "data": {
      "text/html": [
       "<style>#sk-container-id-2 {color: black;background-color: white;}#sk-container-id-2 pre{padding: 0;}#sk-container-id-2 div.sk-toggleable {background-color: white;}#sk-container-id-2 label.sk-toggleable__label {cursor: pointer;display: block;width: 100%;margin-bottom: 0;padding: 0.3em;box-sizing: border-box;text-align: center;}#sk-container-id-2 label.sk-toggleable__label-arrow:before {content: \"▸\";float: left;margin-right: 0.25em;color: #696969;}#sk-container-id-2 label.sk-toggleable__label-arrow:hover:before {color: black;}#sk-container-id-2 div.sk-estimator:hover label.sk-toggleable__label-arrow:before {color: black;}#sk-container-id-2 div.sk-toggleable__content {max-height: 0;max-width: 0;overflow: hidden;text-align: left;background-color: #f0f8ff;}#sk-container-id-2 div.sk-toggleable__content pre {margin: 0.2em;color: black;border-radius: 0.25em;background-color: #f0f8ff;}#sk-container-id-2 input.sk-toggleable__control:checked~div.sk-toggleable__content {max-height: 200px;max-width: 100%;overflow: auto;}#sk-container-id-2 input.sk-toggleable__control:checked~label.sk-toggleable__label-arrow:before {content: \"▾\";}#sk-container-id-2 div.sk-estimator input.sk-toggleable__control:checked~label.sk-toggleable__label {background-color: #d4ebff;}#sk-container-id-2 div.sk-label input.sk-toggleable__control:checked~label.sk-toggleable__label {background-color: #d4ebff;}#sk-container-id-2 input.sk-hidden--visually {border: 0;clip: rect(1px 1px 1px 1px);clip: rect(1px, 1px, 1px, 1px);height: 1px;margin: -1px;overflow: hidden;padding: 0;position: absolute;width: 1px;}#sk-container-id-2 div.sk-estimator {font-family: monospace;background-color: #f0f8ff;border: 1px dotted black;border-radius: 0.25em;box-sizing: border-box;margin-bottom: 0.5em;}#sk-container-id-2 div.sk-estimator:hover {background-color: #d4ebff;}#sk-container-id-2 div.sk-parallel-item::after {content: \"\";width: 100%;border-bottom: 1px solid gray;flex-grow: 1;}#sk-container-id-2 div.sk-label:hover label.sk-toggleable__label {background-color: #d4ebff;}#sk-container-id-2 div.sk-serial::before {content: \"\";position: absolute;border-left: 1px solid gray;box-sizing: border-box;top: 0;bottom: 0;left: 50%;z-index: 0;}#sk-container-id-2 div.sk-serial {display: flex;flex-direction: column;align-items: center;background-color: white;padding-right: 0.2em;padding-left: 0.2em;position: relative;}#sk-container-id-2 div.sk-item {position: relative;z-index: 1;}#sk-container-id-2 div.sk-parallel {display: flex;align-items: stretch;justify-content: center;background-color: white;position: relative;}#sk-container-id-2 div.sk-item::before, #sk-container-id-2 div.sk-parallel-item::before {content: \"\";position: absolute;border-left: 1px solid gray;box-sizing: border-box;top: 0;bottom: 0;left: 50%;z-index: -1;}#sk-container-id-2 div.sk-parallel-item {display: flex;flex-direction: column;z-index: 1;position: relative;background-color: white;}#sk-container-id-2 div.sk-parallel-item:first-child::after {align-self: flex-end;width: 50%;}#sk-container-id-2 div.sk-parallel-item:last-child::after {align-self: flex-start;width: 50%;}#sk-container-id-2 div.sk-parallel-item:only-child::after {width: 0;}#sk-container-id-2 div.sk-dashed-wrapped {border: 1px dashed gray;margin: 0 0.4em 0.5em 0.4em;box-sizing: border-box;padding-bottom: 0.4em;background-color: white;}#sk-container-id-2 div.sk-label label {font-family: monospace;font-weight: bold;display: inline-block;line-height: 1.2em;}#sk-container-id-2 div.sk-label-container {text-align: center;}#sk-container-id-2 div.sk-container {/* jupyter's `normalize.less` sets `[hidden] { display: none; }` but bootstrap.min.css set `[hidden] { display: none !important; }` so we also need the `!important` here to be able to override the default hidden behavior on the sphinx rendered scikit-learn.org. See: https://github.com/scikit-learn/scikit-learn/issues/21755 */display: inline-block !important;position: relative;}#sk-container-id-2 div.sk-text-repr-fallback {display: none;}</style><div id=\"sk-container-id-2\" class=\"sk-top-container\"><div class=\"sk-text-repr-fallback\"><pre>Pipeline(steps=[(&#x27;CatBoostEncoder&#x27;,\n",
       "                 CatBoostEncoder(cols=[&#x27;status&#x27;, &#x27;propertyType&#x27;, &#x27;city&#x27;,\n",
       "                                       &#x27;state&#x27;, &#x27;Heating&#x27;, &#x27;Cooling&#x27;])),\n",
       "                (&#x27;MinMaxScaler&#x27;, MinMaxScaler()),\n",
       "                (&#x27;GradientBoostingRegressor&#x27;,\n",
       "                 GradientBoostingRegressor(learning_rate=0.5, max_depth=6,\n",
       "                                           min_samples_split=30,\n",
       "                                           random_state=42))])</pre><b>In a Jupyter environment, please rerun this cell to show the HTML representation or trust the notebook. <br />On GitHub, the HTML representation is unable to render, please try loading this page with nbviewer.org.</b></div><div class=\"sk-container\" hidden><div class=\"sk-item sk-dashed-wrapped\"><div class=\"sk-label-container\"><div class=\"sk-label sk-toggleable\"><input class=\"sk-toggleable__control sk-hidden--visually\" id=\"sk-estimator-id-2\" type=\"checkbox\" ><label for=\"sk-estimator-id-2\" class=\"sk-toggleable__label sk-toggleable__label-arrow\">Pipeline</label><div class=\"sk-toggleable__content\"><pre>Pipeline(steps=[(&#x27;CatBoostEncoder&#x27;,\n",
       "                 CatBoostEncoder(cols=[&#x27;status&#x27;, &#x27;propertyType&#x27;, &#x27;city&#x27;,\n",
       "                                       &#x27;state&#x27;, &#x27;Heating&#x27;, &#x27;Cooling&#x27;])),\n",
       "                (&#x27;MinMaxScaler&#x27;, MinMaxScaler()),\n",
       "                (&#x27;GradientBoostingRegressor&#x27;,\n",
       "                 GradientBoostingRegressor(learning_rate=0.5, max_depth=6,\n",
       "                                           min_samples_split=30,\n",
       "                                           random_state=42))])</pre></div></div></div><div class=\"sk-serial\"><div class=\"sk-item\"><div class=\"sk-estimator sk-toggleable\"><input class=\"sk-toggleable__control sk-hidden--visually\" id=\"sk-estimator-id-3\" type=\"checkbox\" ><label for=\"sk-estimator-id-3\" class=\"sk-toggleable__label sk-toggleable__label-arrow\">CatBoostEncoder</label><div class=\"sk-toggleable__content\"><pre>CatBoostEncoder(cols=[&#x27;status&#x27;, &#x27;propertyType&#x27;, &#x27;city&#x27;, &#x27;state&#x27;, &#x27;Heating&#x27;,\n",
       "                      &#x27;Cooling&#x27;])</pre></div></div></div><div class=\"sk-item\"><div class=\"sk-estimator sk-toggleable\"><input class=\"sk-toggleable__control sk-hidden--visually\" id=\"sk-estimator-id-4\" type=\"checkbox\" ><label for=\"sk-estimator-id-4\" class=\"sk-toggleable__label sk-toggleable__label-arrow\">MinMaxScaler</label><div class=\"sk-toggleable__content\"><pre>MinMaxScaler()</pre></div></div></div><div class=\"sk-item\"><div class=\"sk-estimator sk-toggleable\"><input class=\"sk-toggleable__control sk-hidden--visually\" id=\"sk-estimator-id-5\" type=\"checkbox\" ><label for=\"sk-estimator-id-5\" class=\"sk-toggleable__label sk-toggleable__label-arrow\">GradientBoostingRegressor</label><div class=\"sk-toggleable__content\"><pre>GradientBoostingRegressor(learning_rate=0.5, max_depth=6, min_samples_split=30,\n",
       "                          random_state=42)</pre></div></div></div></div></div></div></div>"
      ],
      "text/plain": [
       "Pipeline(steps=[('CatBoostEncoder',\n",
       "                 CatBoostEncoder(cols=['status', 'propertyType', 'city',\n",
       "                                       'state', 'Heating', 'Cooling'])),\n",
       "                ('MinMaxScaler', MinMaxScaler()),\n",
       "                ('GradientBoostingRegressor',\n",
       "                 GradientBoostingRegressor(learning_rate=0.5, max_depth=6,\n",
       "                                           min_samples_split=30,\n",
       "                                           random_state=42))])"
      ]
     },
     "execution_count": 1088,
     "metadata": {},
     "output_type": "execute_result"
    }
   ],
   "source": [
    "# Обучаем пайплайн\n",
    "pipe.fit(X_p, y_p)"
   ]
  },
  {
   "cell_type": "code",
   "execution_count": 1089,
   "metadata": {},
   "outputs": [],
   "source": [
    "# Сериализуем и записываем результат в файл\n",
    "with open('diplom_pipeline.pkl', 'wb') as output:\n",
    "    pickle.dump(pipe, output)"
   ]
  },
  {
   "attachments": {},
   "cell_type": "markdown",
   "metadata": {},
   "source": [
    "Проверю работоспособность"
   ]
  },
  {
   "cell_type": "code",
   "execution_count": 1090,
   "metadata": {},
   "outputs": [],
   "source": [
    "# Десериализуем pipeline из файла\n",
    "with open('diplom_pipeline.pkl', 'rb') as pkl_file:\n",
    "    loaded_pipe = pickle.load(pkl_file)"
   ]
  },
  {
   "cell_type": "code",
   "execution_count": 1096,
   "metadata": {},
   "outputs": [],
   "source": [
    "# сделаю предсказание\n",
    "request = ['active', 'single family', 2, 'Philadelphia', 1000, 'PA', 1, 2019, 'central a/c, heat pump', 'central', 3]\n",
    "req_f = pd.DataFrame([request], columns=cols)\n",
    "pred = loaded_pipe.predict(req_f)\n"
   ]
  },
  {
   "attachments": {},
   "cell_type": "markdown",
   "metadata": {},
   "source": [
    "### Продакшн"
   ]
  },
  {
   "cell_type": "code",
   "execution_count": 1097,
   "metadata": {},
   "outputs": [],
   "source": [
    "!pip freeze > requirements.txt"
   ]
  },
  {
   "attachments": {},
   "cell_type": "markdown",
   "metadata": {},
   "source": [
    "### Посредством Flask реализована вэб версия посредством POST запросов"
   ]
  },
  {
   "attachments": {},
   "cell_type": "markdown",
   "metadata": {},
   "source": [
    "Файла сервера и клиента прилагаются"
   ]
  }
 ],
 "metadata": {
  "kernelspec": {
   "display_name": "Python 3",
   "language": "python",
   "name": "python3"
  },
  "language_info": {
   "codemirror_mode": {
    "name": "ipython",
    "version": 3
   },
   "file_extension": ".py",
   "mimetype": "text/x-python",
   "name": "python",
   "nbconvert_exporter": "python",
   "pygments_lexer": "ipython3",
   "version": "3.11.1"
  }
 },
 "nbformat": 4,
 "nbformat_minor": 2
}
